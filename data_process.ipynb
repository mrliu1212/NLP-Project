{
  "cells": [
    {
      "cell_type": "markdown",
      "metadata": {
        "id": "PeYYaBo07tLq"
      },
      "source": [
        "# Media Bias Detection"
      ]
    },
    {
      "cell_type": "markdown",
      "metadata": {
        "id": "kP7vc93zGkg2"
      },
      "source": [
        "## Libraries Download"
      ]
    },
    {
      "cell_type": "code",
      "execution_count": null,
      "metadata": {
        "colab": {
          "base_uri": "https://localhost:8080/"
        },
        "id": "eBSy5OES-q21",
        "outputId": "05129671-4627-44f7-8782-479d7be954d8"
      },
      "outputs": [
        {
          "name": "stdout",
          "output_type": "stream",
          "text": [
            "Collecting newsapi-python\n",
            "  Downloading newsapi_python-0.2.7-py2.py3-none-any.whl.metadata (1.2 kB)\n",
            "Requirement already satisfied: requests<3.0.0 in /usr/local/lib/python3.11/dist-packages (from newsapi-python) (2.32.3)\n",
            "Requirement already satisfied: charset-normalizer<4,>=2 in /usr/local/lib/python3.11/dist-packages (from requests<3.0.0->newsapi-python) (3.4.1)\n",
            "Requirement already satisfied: idna<4,>=2.5 in /usr/local/lib/python3.11/dist-packages (from requests<3.0.0->newsapi-python) (3.10)\n",
            "Requirement already satisfied: urllib3<3,>=1.21.1 in /usr/local/lib/python3.11/dist-packages (from requests<3.0.0->newsapi-python) (2.3.0)\n",
            "Requirement already satisfied: certifi>=2017.4.17 in /usr/local/lib/python3.11/dist-packages (from requests<3.0.0->newsapi-python) (2025.1.31)\n",
            "Downloading newsapi_python-0.2.7-py2.py3-none-any.whl (7.9 kB)\n",
            "Installing collected packages: newsapi-python\n",
            "Successfully installed newsapi-python-0.2.7\n"
          ]
        }
      ],
      "source": [
        "# pip install newsapi-python\n",
        "# pip install readability-lxml\n",
        "# pip install lxml-html-clean"
      ]
    },
    {
      "cell_type": "markdown",
      "metadata": {
        "id": "9ScKjcKnGo0U"
      },
      "source": [
        "## Data Retrival From News API"
      ]
    },
    {
      "cell_type": "code",
      "execution_count": null,
      "metadata": {},
      "outputs": [
        {
          "name": "stdout",
          "output_type": "stream",
          "text": [
            "[Climate Change]: 100 articles retrieved.\n",
            "[Israel-Palestine Conflict]: 95 articles retrieved.\n",
            "[U.S. Presidential Election 2024 Aftermath]: 98 articles retrieved.\n",
            "[China-Taiwan Relations]: 95 articles retrieved.\n",
            "[Immigration Policy]: 100 articles retrieved.\n",
            "[AI in the Job Market]: 99 articles retrieved.\n",
            "[Cryptocurrency Regulation]: 98 articles retrieved.\n",
            "[Global Inflation Trends]: 99 articles retrieved.\n",
            "[Tech Company Antitrust Investigations]: 26 articles retrieved.\n",
            "[Green Energy Investment]: 89 articles retrieved.\n",
            "[OpenAI and GPT-5 Developments]: 12 articles retrieved.\n",
            "[AI in Healthcare]: 99 articles retrieved.\n",
            "[SpaceX Mars Missions]: 92 articles retrieved.\n",
            "[Quantum Computing Breakthroughs]: 81 articles retrieved.\n",
            "[Cybersecurity Threats and Hacks]: 35 articles retrieved.\n",
            "[NATO Expansion and Military Spending]: 58 articles retrieved.\n",
            "[TikTok Ban in the United States]: 96 articles retrieved.\n",
            "[Mental Health and Social Media]: 99 articles retrieved.\n",
            "[Electric Vehicle Market Competition]: 94 articles retrieved.\n",
            "[Nuclear Fusion Breakthroughs]: 17 articles retrieved.\n",
            "[Remote Work and Hybrid Offices]: 57 articles retrieved.\n",
            "[Digital Currency by Central Banks]: 100 articles retrieved.\n",
            "[Gun Control Legislation in the US]: 42 articles retrieved.\n",
            "[Amazon Labor Union Movements]: 10 articles retrieved.\n",
            "[Rise of Right-Wing Populism in Europe]: 17 articles retrieved.\n",
            "[China's Belt and Road Initiative]: 94 articles retrieved.\n",
            "[India's Role in Global Tech]: 73 articles retrieved.\n",
            "[Climate Protests and Youth Activism]: 9 articles retrieved.\n",
            "[Global Water Scarcity]: 95 articles retrieved.\n",
            "[Meta's Push into the Metaverse]: 3 articles retrieved.\n",
            "[Biotech in Agriculture]: 98 articles retrieved.\n",
            "[Drug Policy Reform and Legalization]: 8 articles retrieved.\n",
            "[Western Sanctions on Russia]: 95 articles retrieved.\n",
            "[AI Deepfakes and Disinformation]: 30 articles retrieved.\n",
            "[Elections in African Democracies]: 5 articles retrieved.\n",
            "Saved data to cache file './data/35_5000_train_data_raw.json'.\n",
            "Total articles retrieved: 35\n"
          ]
        }
      ],
      "source": [
        "from newsapi import NewsApiClient\n",
        "from useful_tools import UsefulTools  # Updated import\n",
        "\n",
        "class ArticlesReceiver:\n",
        "    \"\"\"\n",
        "    Retrieves news articles for given topics using NewsAPI,\n",
        "    with optional caching to a local JSON file preserving full response structure.\n",
        "\n",
        "    The structure of retrival:\n",
        "    {\n",
        "    \"status\": \"ok\",\n",
        "    \"totalResults\": 624,\n",
        "    \"articles\": [\n",
        "        {\n",
        "        \"source\": {\n",
        "            \"id\": \"wired\",\n",
        "            \"name\": \"Wired\"\n",
        "        },\n",
        "        \"author\": \"Adrienne So\",\n",
        "        \"title\": \"Garmin Vivoactive 6 Review: Reliable, Real Intelligence\",\n",
        "        \"description\": \"New subscription service notwithstanding, Garmin's latest entry-level tracker is still reliable and attractive and works great.\",\n",
        "        \"url\": \"https://www.wired.com/review/garmin-vivoactive-6/\",\n",
        "        \"urlToImage\": \"https://media.wired.com/photos/6802d3bd68bf21be6e9c8d99/191:100/w_1280,c_limit/Garmin-Vivoactive_042025_Lede.jpg\",\n",
        "        \"publishedAt\": \"2025-04-19T13:33:00Z\",\n",
        "        \"content\": \"Garmin, the maker of our fav...\"\n",
        "        },\n",
        "        {...}\n",
        "    ]\n",
        "\n",
        "    }\n",
        "\n",
        "    \"\"\"\n",
        "    def __init__(self, api_key: str):\n",
        "        self.newsapi = NewsApiClient(api_key=api_key)\n",
        "        self.all_responses = []\n",
        "\n",
        "    def retrieve(self, topics: list[str], cache_file: str = None, page_size: int = 100):\n",
        "        \"\"\"\n",
        "        Retrieves full API responses for each topic. If cache_file is provided\n",
        "        and valid, returns cached responses without querying NewsAPI.\n",
        "\n",
        "        :param topics: List of query strings\n",
        "        :param cache_file: Optional path to JSON cache file\n",
        "        :param page_size: Number of articles per topic (max 100)\n",
        "        :return: List of response dicts, each containing status, totalResults, and articles\n",
        "        \"\"\"\n",
        "        if cache_file:\n",
        "            cached = UsefulTools.JsonCache.load(cache_file, expected_type=list)\n",
        "            if cached is not None:\n",
        "                return cached\n",
        "\n",
        "        self.all_responses = []\n",
        "        for topic in topics:\n",
        "            try:\n",
        "                response = self.newsapi.get_everything(\n",
        "                    q=topic,\n",
        "                    language='en',\n",
        "                    sort_by='relevancy',\n",
        "                    page_size=page_size\n",
        "                )\n",
        "                print(f\"[{topic}]: {len(response.get('articles', []))} articles retrieved.\")\n",
        "                self.all_responses.append(response)\n",
        "            except Exception as e:\n",
        "                print(f\"Error fetching articles for '{topic}': {e}\")\n",
        "\n",
        "        if cache_file:\n",
        "            UsefulTools.JsonCache.save(self.all_responses, cache_file)\n",
        "\n",
        "        return self.all_responses\n",
        "\n",
        "# Example usage:\n",
        "api_key = 'e85eb7bdd52b4cf98fc954ce1c09c25a'\n",
        "receiver = ArticlesReceiver(api_key)\n",
        "topics = [\n",
        "    \"Climate Change\",\n",
        "    \"Israel-Palestine Conflict\",\n",
        "    \"U.S. Presidential Election 2024 Aftermath\",\n",
        "    \"China-Taiwan Relations\",\n",
        "    \"Immigration Policy\",\n",
        "    \"AI in the Job Market\",\n",
        "    \"Cryptocurrency Regulation\",\n",
        "    \"Global Inflation Trends\",\n",
        "    \"Tech Company Antitrust Investigations\",\n",
        "    \"Green Energy Investment\",\n",
        "    \"OpenAI and GPT-5 Developments\",\n",
        "    \"AI in Healthcare\",\n",
        "    \"SpaceX Mars Missions\",\n",
        "    \"Quantum Computing Breakthroughs\",\n",
        "    \"Cybersecurity Threats and Hacks\",\n",
        "     \"NATO Expansion and Military Spending\",\n",
        "    \"TikTok Ban in the United States\",\n",
        "    \"Mental Health and Social Media\",\n",
        "    \"Electric Vehicle Market Competition\",\n",
        "    \"Nuclear Fusion Breakthroughs\",\n",
        "    \"Remote Work and Hybrid Offices\",\n",
        "    \"Digital Currency by Central Banks\",\n",
        "    \"Gun Control Legislation in the US\",\n",
        "    \"Amazon Labor Union Movements\",\n",
        "    \"Rise of Right-Wing Populism in Europe\",\n",
        "    \"China's Belt and Road Initiative\",\n",
        "    \"India's Role in Global Tech\",\n",
        "    \"Climate Protests and Youth Activism\",\n",
        "    \"Global Water Scarcity\",\n",
        "    \"Meta's Push into the Metaverse\",\n",
        "    \"Biotech in Agriculture\",\n",
        "    \"Drug Policy Reform and Legalization\",\n",
        "    \"Western Sanctions on Russia\",\n",
        "    \"AI Deepfakes and Disinformation\",\n",
        "    \"Elections in African Democracies\"\n",
        "]\n",
        "all_articles = receiver.retrieve(topics, cache_file='./data/train_data_35_5000_raw.json')\n",
        "print(f\"Total articles retrieved: {len(all_articles)}\")"
      ]
    },
    {
      "cell_type": "markdown",
      "metadata": {
        "id": "zO7baXHKJ4cr"
      },
      "source": [
        "## Try: Use Redability and BeautifulSoup to Retrieve Complete Content"
      ]
    },
    {
      "cell_type": "code",
      "execution_count": 22,
      "metadata": {
        "colab": {
          "base_uri": "https://localhost:8080/",
          "height": 122
        },
        "id": "wYFTcJGuJQ4Y",
        "outputId": "056b20fc-167c-4300-e73a-ecc4f42574a7"
      },
      "outputs": [
        {
          "data": {
            "text/plain": [
              "'\\n\\n\\nAlmost 40 years ago, deep in the Pacific, a single voice called out a song unlike any other. The sound reverberated through the depths at 52 Hertz, puzzling those listening to this solo ringing out from the oceanâ\\x80\\x99s symphony. The frequency was much higher than a blue whale or its cousin, the fin, leaving scientists to ponder the mystery of \\n\\nWhale 52\\n\\n.\\n\\n \\n\\nThe leviathan has been heard many times since, but never seen. Some suspect it might have some deformation that alters its voice. Others think it might simply exhibit a highly unusual vocalization â\\x80\\x94 a tenor among baritones. But Marine biologist John Calambokidis of Cascadia Research Collective suggests another possibility: â\\x80\\x9cThe loneliest whale,â\\x80\\x9d so named because there may be no one to respond to its unique call, may not be an anomaly, but a clue.\\n\\n \\n\\nCalambokidis, who has spent more than 50 years studying cetaceans, suspects Whale 52 may be a hybrid: Part blue whale, part fin whale.\\n\\n \\n\\nSuch a creature, often called a flue whale, is growing more common as warming seas push blues into new breeding grounds, where they are \\n\\nincreasingly likely to mate with their fin \\n\\nrelatives. A survey of north Atlantic blues published last year found that fin whale DNA comprised \\n\\nas much as 3.5 percent of their genome\\n\\n, a striking figure given the two species \\n\\ndiverged 8.35 million years ago\\n\\n. If Whale 52 is indeed a hybrid, its presence suggests genetic intermingling among \\n\\nBalaenoptera musculus\\n\\n, as blues are known among scientists, and\\n\\n Balaenoptera physalus \\n\\nhas been occurring for decades, if not longer. The North Atlantic findings suggest it is accelerating.\\n\\n \\n\\nCetacean interbreeding has been documented before, notably among narwhals and belugas and between two species of pilot whales, combinations attributed largely to warming seas pushing these animals into new territory and closer proximity. But hybridization has been more closely studied among terrestrial creatures like the pizzly bears born of grizzlies and polar bears. It is scarcely understood in marine mammals, and little is known about what intermingling will mean for the genetics, behavior, and survival of the largest animal to have ever lived.\\n\\n \\n\\nâ\\x80\\x9cBlue whales are still struggling to recover from centuries of whaling, with some populations remaining at less than 5 percent of their historical numbers,â\\x80\\x9d Calambokidis said. While the number of confirmed hybrids remains low, continued habitat disruption could make them more common, eroding their genetic diversity and reducing the resilience of struggling populations.\\n\\n \\n\\nBefore the arrival of genomics 30 years ago, marine biologists identified hybrids primarily through morphology, or the study of physical traits. If an animal displayed the features of two species â\\x80\\x94 the dappled skin of a narwhal and stout body of a beluga, \\n\\nfor example\\n\\n â\\x80\\x94 it might be labeled a hybrid based on external characteristics or skeletal measurements. Anecdotal evidence might also play a role: \\n\\nHistorical whaling logs\\n\\n suggest blues and fins occasionally interbred, though such pairings went largely unconfirmed. But morphology can, at best, only reveal the first-generation offspring of two distinct species.\\n\\n \\n\\nBy analyzing DNA, marine biologists like Aimee Lang can now identify intermingling that occurred generations ago, uncovering a far more complex history than was previously understood. This new level of detail complicates the picture: Are flues becoming more common, or are researchers simply better equipped to find them? As scientists probe the genetic signatures of whales worldwide, they hope to distinguish whether hybridization is an emerging trend driven by climate change, or a long-standing, overlooked facet of cetacean evolution.\\n\\n \\n\\nIn any case, some marine biologists find the phenomenon worrisome because flues are largely incapable of reproducing. Although some females are fertile, males tend to be sterile. These hybrids represent a small fraction of the worldâ\\x80\\x99s blue whales â\\x80\\x94 of which no more than 25,000 remain â\\x80\\x94 but the lopsided population of the two species suggests they will increase. There are four times as many fins as blues worldwide, and an estimate of the waters around Iceland found \\n\\n37,000 fins to 3,000 blues.Â\\xa0\\n\\n \\n\\nâ\\x80\\x9cThree thousand is not a very high density of animals,â\\x80\\x9d said Lang, who studies marine mammal genetics at the National Oceanic and Atmospheric Administration. â\\x80\\x9cSo you can imagine if a female blue is looking for a mate and she canâ\\x80\\x99t find a blue whale but thereâ\\x80\\x99s fin whales all over the place, sheâ\\x80\\x99ll choose one of them.â\\x80\\x9d\\n\\n \\n\\nThis has profound implications for conservation\\n\\n.\\n\\n If hybrids are not easily identifiable, it could lead to \\n\\ninaccurate estimates\\n\\n of the blue whale population and difficulty assessing the efficacy of conservation programs. More troubling, sterile animals cannot contribute to the survival of their species. Simply put, hybridization presents a threat to their long-term viability.\\n\\n \\n\\nâ\\x80\\x9cIf it becomes frequent enough, hybrid genomes could eventually swamp out the true blue whale genomes,â\\x80\\x9d Lang said. â\\x80\\x9cIt could be that hybrids are not as well adapted to the environment as a purebred blue or fin, meaning that whatever offspring are produced are evolutionary dead ends.â\\x80\\x9d\\n\\n \\n\\nThis could have consequences for entire ecosystems. Each whale species plays a specific role in ensuring marine ecosystem health by, say, managing krill populations or providing essential nutrients like iron. Hybrids that donâ\\x80\\x99t play the role evolution has assigned to them undermine this symbiotic relationship with the sea. â\\x80\\x9cThose individuals and their offspring arenâ\\x80\\x99t fully filling the ecological niche of either parent species,â\\x80\\x9d Calambokidis said.\\n\\n \\n\\nAll of this adds to the uncertainty wrought by the upheavals already underway. Many marine ecosystems are \\n\\nexperiencing regime shifts\\n\\n â\\x80\\x94 abrupt and often irreversible changes in structure and function â\\x80\\x94 driven by warming waters, acidification, and shifting prey distributions. These alterations are pushing some cetacean species into smaller, more isolated breeding pools.\\n\\n \\n\\nThere is reason for concern beyond blue whales. Rampant interbreeding among the 76 orcas of the genetically distinct and critically endangered Southern Resident killer whale population of the Pacific Northwest is \\n\\ncutting their lifespans nearly in half\\n\\n, by placing them at greater risk of harmful genetic traits, weakened immune systems, reduced fertility, and higher calf mortality. Tahlequah, the southern resident orca who became known around the world in 2018 for carrying her dead calf for 17 days, \\n\\nlost another one in January\\n\\n. The 370 or so North Atlantic right whales that still remain may \\n\\nface similar challenges\\n\\n.\\n\\n \\n\\nSome level of cetacean interbreeding and hybridization may be inevitable as species adapt to climate change. Some of it may prove beneficial. The real concern is whether these changes will outpace whalesâ\\x80\\x99 ability to survive. Flue whales may be an anomaly, but their existence is a symptom of broader, anthropogenic disruptions.\\n\\n \\n\\nâ\\x80\\x9cThere are examples of populations that are doing well, even though they have low genetic diversity, and there are examples where they arenâ\\x80\\x99t doing well,â\\x80\\x9d said Vania Rivera Leon, who researches population genetics at the Center for \\n\\nCoastal Studies\\n\\n in Provincetown, Massachusetts. â\\x80\\x9cThey might be all right under current conditions, but if and when the conditions shift more, that could flip.â\\x80\\x9d\\n\\n \\n\\nâ\\x80\\x9cThe effect could be what we call a bottleneck,â\\x80\\x9d she added. â\\x80\\x9cA complete loss of genetic diversity.â\\x80\\x9d\\n\\n \\n\\nThese changes often unfold too gradually for humans to perceive quickly. Unlike fish, which have rapid life cycles and clear population booms or crashes, whales live for decades, with overlapping generations that obscure immediate trends. There have only been about 30 whale generations since whaling largely ceased. To truly grasp how these pressures are shaping whale populations, researchers may need twice that long to uncover what is happening beneath the waves and what, if anything, Whale 52 might be saying about it.\\n\\n \\n\\nThis article originally appeared in \\n\\nGrist\\n\\n at \\n\\nhttps://grist.org/oceans/what-the-worlds-loneliest-whale-may-be-telling-us-about-climate-change/\\n\\n.Â\\xa0Grist is a nonprofit, independent media organization dedicated to telling stories of climate solutions and a just future. Learn more at \\n\\nGrist.org\\n\\n.\\n\\n \\n\\n\\n\\n\\n\\n'"
            ]
          },
          "execution_count": 22,
          "metadata": {},
          "output_type": "execute_result"
        }
      ],
      "source": [
        "import requests\n",
        "from readability import Document\n",
        "from bs4 import BeautifulSoup\n",
        "\n",
        "url = all_articles[0]['articles'][0]['url']\n",
        "\n",
        "def fetch_full_text(url):\n",
        "    html = requests.get(url, headers={'User-Agent':'bot'}).text\n",
        "    doc = Document(html)\n",
        "    # doc.summary() is the <div> of cleaned HTML\n",
        "    content_html = doc.summary()\n",
        "    # strip tags for plain text\n",
        "    return BeautifulSoup(content_html, 'html.parser').get_text(separator=\"\\n\\n\")\n",
        "\n",
        "fetch_full_text(url)\n"
      ]
    },
    {
      "cell_type": "markdown",
      "metadata": {
        "id": "9WCSb64zKWnX"
      },
      "source": [
        "## Process Raw Data"
      ]
    },
    {
      "cell_type": "code",
      "execution_count": null,
      "metadata": {
        "colab": {
          "base_uri": "https://localhost:8080/"
        },
        "id": "LK3EdyiWL-RS",
        "outputId": "9478d947-af56-4623-e34e-a1dacd30530b"
      },
      "outputs": [
        {
          "name": "stderr",
          "output_type": "stream",
          "text": [
            "                                                                             \r"
          ]
        },
        {
          "name": "stdout",
          "output_type": "stream",
          "text": [
            "[Climate Change]: 25 sources, 98 articles/100, 3460 sentences, 2 failed\n"
          ]
        },
        {
          "name": "stderr",
          "output_type": "stream",
          "text": [
            "                                                                                      \r"
          ]
        },
        {
          "name": "stdout",
          "output_type": "stream",
          "text": [
            "[Israel-Palestine Conflict]: 49 sources, 91 articles/95, 3990 sentences, 4 failed\n"
          ]
        },
        {
          "name": "stderr",
          "output_type": "stream",
          "text": [
            "                                                                                                      \r"
          ]
        },
        {
          "name": "stdout",
          "output_type": "stream",
          "text": [
            "[U.S. Presidential Election 2024 Aftermath]: 11 sources, 98 articles/98, 3422 sentences, 0 failed\n"
          ]
        },
        {
          "name": "stderr",
          "output_type": "stream",
          "text": [
            "                                                                                   \r"
          ]
        },
        {
          "name": "stdout",
          "output_type": "stream",
          "text": [
            "[China-Taiwan Relations]: 45 sources, 89 articles/95, 3260 sentences, 6 failed\n"
          ]
        },
        {
          "name": "stderr",
          "output_type": "stream",
          "text": [
            "                                                                                 \r"
          ]
        },
        {
          "name": "stdout",
          "output_type": "stream",
          "text": [
            "[Immigration Policy]: 20 sources, 88 articles/100, 3600 sentences, 12 failed\n"
          ]
        },
        {
          "name": "stderr",
          "output_type": "stream",
          "text": [
            "                                                                                 \r"
          ]
        },
        {
          "name": "stdout",
          "output_type": "stream",
          "text": [
            "[AI in the Job Market]: 31 sources, 99 articles/99, 11726 sentences, 0 failed\n"
          ]
        },
        {
          "name": "stderr",
          "output_type": "stream",
          "text": [
            "                                                                                      \r"
          ]
        },
        {
          "name": "stdout",
          "output_type": "stream",
          "text": [
            "[Cryptocurrency Regulation]: 34 sources, 95 articles/98, 3328 sentences, 3 failed\n"
          ]
        },
        {
          "name": "stderr",
          "output_type": "stream",
          "text": [
            "                                                                                    \r"
          ]
        },
        {
          "name": "stdout",
          "output_type": "stream",
          "text": [
            "[Global Inflation Trends]: 27 sources, 99 articles/99, 5285 sentences, 0 failed\n"
          ]
        },
        {
          "name": "stderr",
          "output_type": "stream",
          "text": [
            "                                                                                                  \r"
          ]
        },
        {
          "name": "stdout",
          "output_type": "stream",
          "text": [
            "[Tech Company Antitrust Investigations]: 21 sources, 26 articles/26, 1563 sentences, 0 failed\n"
          ]
        },
        {
          "name": "stderr",
          "output_type": "stream",
          "text": [
            "                                                                                    \r"
          ]
        },
        {
          "name": "stdout",
          "output_type": "stream",
          "text": [
            "[Green Energy Investment]: 36 sources, 89 articles/89, 4249 sentences, 0 failed\n"
          ]
        },
        {
          "name": "stderr",
          "output_type": "stream",
          "text": [
            "                                                                                          \r"
          ]
        },
        {
          "name": "stdout",
          "output_type": "stream",
          "text": [
            "[OpenAI and GPT-5 Developments]: 8 sources, 11 articles/12, 8067 sentences, 1 failed\n"
          ]
        },
        {
          "name": "stderr",
          "output_type": "stream",
          "text": [
            "                                                                             \r"
          ]
        },
        {
          "name": "stdout",
          "output_type": "stream",
          "text": [
            "[AI in Healthcare]: 28 sources, 97 articles/99, 3592 sentences, 2 failed\n"
          ]
        },
        {
          "name": "stderr",
          "output_type": "stream",
          "text": [
            "                                                                                 \r"
          ]
        },
        {
          "name": "stdout",
          "output_type": "stream",
          "text": [
            "[SpaceX Mars Missions]: 42 sources, 88 articles/92, 5267 sentences, 4 failed\n"
          ]
        },
        {
          "name": "stderr",
          "output_type": "stream",
          "text": [
            "                                                                                            \r"
          ]
        },
        {
          "name": "stdout",
          "output_type": "stream",
          "text": [
            "[Quantum Computing Breakthroughs]: 48 sources, 79 articles/81, 5122 sentences, 2 failed\n"
          ]
        },
        {
          "name": "stderr",
          "output_type": "stream",
          "text": [
            "                                                                                            \r"
          ]
        },
        {
          "name": "stdout",
          "output_type": "stream",
          "text": [
            "[Cybersecurity Threats and Hacks]: 24 sources, 33 articles/35, 1823 sentences, 2 failed\n"
          ]
        },
        {
          "name": "stderr",
          "output_type": "stream",
          "text": [
            "                                                                                                 \r"
          ]
        },
        {
          "name": "stdout",
          "output_type": "stream",
          "text": [
            "[NATO Expansion and Military Spending]: 38 sources, 56 articles/58, 3512 sentences, 2 failed\n"
          ]
        },
        {
          "name": "stderr",
          "output_type": "stream",
          "text": [
            "                                                                                            \r"
          ]
        },
        {
          "name": "stdout",
          "output_type": "stream",
          "text": [
            "[TikTok Ban in the United States]: 64 sources, 96 articles/96, 4135 sentences, 0 failed\n"
          ]
        },
        {
          "name": "stderr",
          "output_type": "stream",
          "text": [
            "                                                                                           \r"
          ]
        },
        {
          "name": "stdout",
          "output_type": "stream",
          "text": [
            "[Mental Health and Social Media]: 36 sources, 97 articles/99, 6188 sentences, 2 failed\n"
          ]
        },
        {
          "name": "stderr",
          "output_type": "stream",
          "text": [
            "                                                                                                \r"
          ]
        },
        {
          "name": "stdout",
          "output_type": "stream",
          "text": [
            "[Electric Vehicle Market Competition]: 39 sources, 91 articles/94, 3472 sentences, 3 failed\n"
          ]
        },
        {
          "name": "stderr",
          "output_type": "stream",
          "text": [
            "                                                                                         \r"
          ]
        },
        {
          "name": "stdout",
          "output_type": "stream",
          "text": [
            "[Nuclear Fusion Breakthroughs]: 14 sources, 16 articles/17, 1785 sentences, 1 failed\n"
          ]
        },
        {
          "name": "stderr",
          "output_type": "stream",
          "text": [
            "                                                                                           \r"
          ]
        },
        {
          "name": "stdout",
          "output_type": "stream",
          "text": [
            "[Remote Work and Hybrid Offices]: 40 sources, 57 articles/57, 5722 sentences, 0 failed\n"
          ]
        },
        {
          "name": "stderr",
          "output_type": "stream",
          "text": [
            "                                                                                                \r"
          ]
        },
        {
          "name": "stdout",
          "output_type": "stream",
          "text": [
            "[Digital Currency by Central Banks]: 35 sources, 99 articles/100, 5114 sentences, 1 failed\n"
          ]
        },
        {
          "name": "stderr",
          "output_type": "stream",
          "text": [
            "                                                                                              \r"
          ]
        },
        {
          "name": "stdout",
          "output_type": "stream",
          "text": [
            "[Gun Control Legislation in the US]: 34 sources, 41 articles/42, 3796 sentences, 1 failed\n"
          ]
        },
        {
          "name": "stderr",
          "output_type": "stream",
          "text": [
            "                                                                                         \r"
          ]
        },
        {
          "name": "stdout",
          "output_type": "stream",
          "text": [
            "[Amazon Labor Union Movements]: 6 sources, 10 articles/10, 883 sentences, 0 failed\n"
          ]
        },
        {
          "name": "stderr",
          "output_type": "stream",
          "text": [
            "                                                                                                  \r"
          ]
        },
        {
          "name": "stdout",
          "output_type": "stream",
          "text": [
            "[Rise of Right-Wing Populism in Europe]: 16 sources, 17 articles/17, 1699 sentences, 0 failed\n"
          ]
        },
        {
          "name": "stderr",
          "output_type": "stream",
          "text": [
            "                                                                                             \r"
          ]
        },
        {
          "name": "stdout",
          "output_type": "stream",
          "text": [
            "[China's Belt and Road Initiative]: 32 sources, 93 articles/94, 3358 sentences, 1 failed\n"
          ]
        },
        {
          "name": "stderr",
          "output_type": "stream",
          "text": [
            "                                                                                        \r"
          ]
        },
        {
          "name": "stdout",
          "output_type": "stream",
          "text": [
            "[India's Role in Global Tech]: 18 sources, 73 articles/73, 3173 sentences, 0 failed\n"
          ]
        },
        {
          "name": "stderr",
          "output_type": "stream",
          "text": [
            "                                                                                              \r"
          ]
        },
        {
          "name": "stdout",
          "output_type": "stream",
          "text": [
            "[Climate Protests and Youth Activism]: 9 sources, 9 articles/9, 708 sentences, 0 failed\n"
          ]
        },
        {
          "name": "stderr",
          "output_type": "stream",
          "text": [
            "                                                                                  \r"
          ]
        },
        {
          "name": "stdout",
          "output_type": "stream",
          "text": [
            "[Global Water Scarcity]: 47 sources, 94 articles/95, 6523 sentences, 1 failed\n"
          ]
        },
        {
          "name": "stderr",
          "output_type": "stream",
          "text": [
            "                                                                                         \r"
          ]
        },
        {
          "name": "stdout",
          "output_type": "stream",
          "text": [
            "[Meta's Push into the Metaverse]: 3 sources, 3 articles/3, 91 sentences, 0 failed\n"
          ]
        },
        {
          "name": "stderr",
          "output_type": "stream",
          "text": [
            "                                                                                   \r"
          ]
        },
        {
          "name": "stdout",
          "output_type": "stream",
          "text": [
            "[Biotech in Agriculture]: 21 sources, 97 articles/98, 3659 sentences, 1 failed\n"
          ]
        },
        {
          "name": "stderr",
          "output_type": "stream",
          "text": [
            "                                                                                              \r"
          ]
        },
        {
          "name": "stdout",
          "output_type": "stream",
          "text": [
            "[Drug Policy Reform and Legalization]: 7 sources, 7 articles/8, 964 sentences, 1 failed\n"
          ]
        },
        {
          "name": "stderr",
          "output_type": "stream",
          "text": [
            "                                                                                        \r"
          ]
        },
        {
          "name": "stdout",
          "output_type": "stream",
          "text": [
            "[Western Sanctions on Russia]: 22 sources, 92 articles/95, 2670 sentences, 3 failed\n"
          ]
        },
        {
          "name": "stderr",
          "output_type": "stream",
          "text": [
            "                                                                                            \r"
          ]
        },
        {
          "name": "stdout",
          "output_type": "stream",
          "text": [
            "[AI Deepfakes and Disinformation]: 22 sources, 28 articles/30, 1794 sentences, 2 failed\n"
          ]
        },
        {
          "name": "stderr",
          "output_type": "stream",
          "text": [
            "                                                                                           \r"
          ]
        },
        {
          "name": "stdout",
          "output_type": "stream",
          "text": [
            "[Elections in African Democracies]: 3 sources, 5 articles/5, 631 sentences, 0 failed\n",
            "\n",
            " Total: 35 topics, 2261 articles, 127631 sentences\n",
            "Saved data to cache file './data/train_data_35_5000.json'.\n"
          ]
        }
      ],
      "source": [
        "import pandas as pd\n",
        "import spacy\n",
        "import requests\n",
        "from readability import Document\n",
        "from bs4 import BeautifulSoup\n",
        "from tqdm import tqdm\n",
        "from requests.adapters import HTTPAdapter\n",
        "from urllib3.util.retry import Retry\n",
        "\n",
        "\"\"\"\n",
        "We are going to save articles in a dataframe with the following columns:\n",
        "[id, topic, source, title, description, sentence]\n",
        "\n",
        "sentence: represents one sentence form the article\n",
        "id: represents a unique number for each article\n",
        "\n",
        "example: for article 1, we have 3 sentences, we will get:\n",
        "1, topic1, source1, title1, description1, sentence1\n",
        "1, topic1, source1, title1, description1, sentence2\n",
        "1, topic1, source1, title1, description1, sentence3\n",
        "\n",
        "\n",
        "ARTICLES_PER_SOURCE stabilizes the number of articles per source\n",
        "\"\"\"\n",
        "\n",
        "ARTICLES_PER_SOURCE = 30\n",
        "N_SOURCE = 10\n",
        "SENT_PER_SOURCE = 5000\n",
        "\n",
        "class Df_Builder():\n",
        "    def __init__(self):\n",
        "        self.session = self.make_session()\n",
        "        self.HEADERS = HEADERS = {\n",
        "            \"User-Agent\": (\n",
        "                \"Mozilla/5.0 (Windows NT 10.0; Win64; x64) \"\n",
        "                \"AppleWebKit/537.36 (KHTML, like Gecko) \"\n",
        "                \"Chrome/112.0.0.0 Safari/537.36\"\n",
        "            ),\n",
        "            \"Accept-Language\": \"en-US,en;q=0.9\",\n",
        "        }\n",
        "\n",
        "        # 2) Same NLP setup\n",
        "        self.nlp = spacy.load(\"en_core_web_sm\")\n",
        "        self.data = pd.DataFrame()\n",
        "        self.sources = {}\n",
        "\n",
        "    # 1) Configure a retry‑enabled session and realistic headers\n",
        "    def make_session(self, retries=3, backoff=0.5):\n",
        "        sess = requests.Session()\n",
        "        retry = Retry(\n",
        "            total=retries,\n",
        "            backoff_factor=backoff,\n",
        "            status_forcelist=[500, 502, 503, 504],\n",
        "            allowed_methods=[\"GET\"],\n",
        "        )\n",
        "        adapter = HTTPAdapter(max_retries=retry)\n",
        "        sess.mount(\"http://\", adapter)\n",
        "        sess.mount(\"https://\", adapter)\n",
        "        return sess\n",
        "\n",
        "\n",
        "    def get_full_article(self, url):\n",
        "        try:\n",
        "            resp = self.session.get(url, headers=self.HEADERS, timeout=10)\n",
        "            resp.raise_for_status()\n",
        "        except requests.exceptions.RequestException as e:\n",
        "            # print(f\"Failed to fetch {url}: {e}\")\n",
        "            return \"\"\n",
        "        doc = Document(resp.text)\n",
        "        content_html = doc.summary()\n",
        "        return BeautifulSoup(content_html, 'html.parser') \\\n",
        "                .get_text(separator=\"\\n\\n\")\n",
        "\n",
        "    def sentences_tokenization(self, content):\n",
        "        doc = self.nlp(content)\n",
        "        return [sent.text.strip() for sent in doc.sents]\n",
        "\n",
        "    def build(self, topics, all_articles, allowed_sources=[], cache_file: str = None):\n",
        "        \"\"\"\n",
        "        Builds a DataFrame containing article sentence data.\n",
        "\n",
        "        Parameters:\n",
        "            topics (list): List of topic strings\n",
        "            all_articles (list): List of response dicts from NewsAPI\n",
        "            allowed_sources (list): Optional list of sources to include\n",
        "            cache_file (str): Optional path to load/save the final DataFrame (as list of dicts)\n",
        "\n",
        "        Returns:\n",
        "            pd.DataFrame: DataFrame with columns [id, topic, source, title, description, sentence]\n",
        "        \"\"\"\n",
        "        # Try loading from cache first\n",
        "        if cache_file:\n",
        "            cached_data = UsefulTools.JsonCache.load(cache_file, expected_type=list)\n",
        "            if cached_data:\n",
        "                print(f\"Loaded processed data from cache: '{cache_file}'\")\n",
        "                self.data = pd.DataFrame(cached_data)\n",
        "                return self.data\n",
        "\n",
        "        rows = []\n",
        "        article_id = 0\n",
        "        n_source = 0\n",
        "\n",
        "        for topic, articles in zip(topics, all_articles):\n",
        "            visited_source = {}\n",
        "            count_sent = 0\n",
        "            count_articles = 0\n",
        "            count_fails = 0\n",
        "\n",
        "            for a in tqdm(articles['articles'], desc=f\"[{topic}] Articles\", unit=\"art\", leave=False):\n",
        "                source = a['source']['name']\n",
        "                source_id = a['source']['id']\n",
        "                author = a['author']\n",
        "\n",
        "                if allowed_sources and source not in allowed_sources:\n",
        "                    continue\n",
        "\n",
        "                if visited_source.get(source, 0) > SENT_PER_SOURCE:\n",
        "                    n_source += 1\n",
        "                    continue\n",
        "                \n",
        "                if n_source >= N_SOURCE:\n",
        "                    break\n",
        "\n",
        "                full_content = self.get_full_article(a.get('url', ''))\n",
        "                if not full_content:\n",
        "                    count_fails += 1\n",
        "                    continue\n",
        "                \n",
        "                source_count_sent = 0\n",
        "                for sent in self.sentences_tokenization(full_content):\n",
        "                    rows.append({\n",
        "                        'id': article_id,\n",
        "                        'topic': topic,\n",
        "                        'source': source,\n",
        "                        'title': a['title'],\n",
        "                        'description': a['description'],\n",
        "                        'sentence': sent,\n",
        "                        'author': author\n",
        "                    })\n",
        "                    count_sent += 1\n",
        "                    source_count_sent += 1\n",
        "                count_articles += 1\n",
        "                article_id += 1\n",
        "\n",
        "                visited_source[source] = visited_source.get(source, 0) + source_count_sent\n",
        "                \n",
        "                if source not in self.sources:\n",
        "                    self.sources[source] = source_id\n",
        "\n",
        "            print(f\"[{topic}]: {len(visited_source)} sources, {count_articles} articles/{len(articles['articles'])}, {count_sent} sentences, {count_fails} failed\")\n",
        "\n",
        "        self.data = pd.DataFrame(rows)\n",
        "\n",
        "        print(f\"\\n Total: {len(topics)} topics, {article_id} articles, {len(self.data)} sentences\")\n",
        "\n",
        "        # Save to cache\n",
        "        if cache_file:\n",
        "            UsefulTools.JsonCache.save(self.data.to_dict(orient='records'), cache_file)\n",
        "\n",
        "        return self.data\n",
        "\n",
        "\n",
        "\n",
        "training_builder = Df_Builder()\n",
        "training_data = training_builder.build(\n",
        "    topics,\n",
        "    all_articles,\n",
        "    cache_file='./data/train_data_35_5000.json'\n",
        ")\n"
      ]
    },
    {
      "cell_type": "markdown",
      "metadata": {
        "id": "Elg4C3GhwDLE"
      },
      "source": [
        "# Retrieve Data for Test"
      ]
    },
    {
      "cell_type": "code",
      "execution_count": 7,
      "metadata": {
        "colab": {
          "base_uri": "https://localhost:8080/"
        },
        "id": "g8kHWlCvwJsQ",
        "outputId": "ae465db7-de3f-4f43-a67e-445a95b58ee3"
      },
      "outputs": [
        {
          "name": "stdout",
          "output_type": "stream",
          "text": [
            "[AI in Criminal Justice]: 96 articles retrieved.\n",
            "[Social Media Regulation]: 93 articles retrieved.\n",
            "[Youth Unemployment in Europe]: 23 articles retrieved.\n",
            "[U.S. Border Security Technology]: 99 articles retrieved.\n",
            "[Ukraine-Russia War]: 100 articles retrieved.\n",
            "[Nuclear Energy Debate]: 97 articles retrieved.\n",
            "[Digital Privacy Laws]: 95 articles retrieved.\n",
            "[Global Plastic Waste Trade]: 40 articles retrieved.\n",
            "[Hollywood Streaming Wars]: 94 articles retrieved.\n",
            "[Global Food Security]: 96 articles retrieved.\n",
            "[5G Technology Expansion]: 100 articles retrieved.\n",
            "[Deep Sea Mining Controversy]: 5 articles retrieved.\n",
            "[Artificial Meat and Food Innovation]: 18 articles retrieved.\n",
            "[Women's Rights in Iran]: 5 articles retrieved.\n",
            "[Space Tourism Developments]: 43 articles retrieved.\n",
            "[Child Labor in Global Supply Chains]: 34 articles retrieved.\n",
            "[Facial Recognition and Surveillance]: 95 articles retrieved.\n",
            "[Climate-Induced Migration]: 25 articles retrieved.\n",
            "[Esports Industry Growth]: 50 articles retrieved.\n",
            "[Education Inequality Post-Pandemic]: 16 articles retrieved.\n",
            "Saved data to cache file './data/test_data_20_5000_raw.json'.\n",
            "Total articles retrieved: 1224\n"
          ]
        }
      ],
      "source": [
        "# Define test input\n",
        "test_topics = [\n",
        "    \"AI in Criminal Justice\",\n",
        "    \"Social Media Regulation\",\n",
        "    \"Youth Unemployment in Europe\",\n",
        "    \"U.S. Border Security Technology\",\n",
        "    \"Ukraine-Russia War\",\n",
        "    \"Nuclear Energy Debate\",\n",
        "    \"Digital Privacy Laws\",\n",
        "    \"Global Plastic Waste Trade\",\n",
        "    \"Hollywood Streaming Wars\",\n",
        "    \"Global Food Security\",\n",
        "    \"5G Technology Expansion\",\n",
        "    \"Deep Sea Mining Controversy\",\n",
        "    \"Artificial Meat and Food Innovation\",\n",
        "    \"Women's Rights in Iran\",\n",
        "    \"Space Tourism Developments\",\n",
        "    \"Child Labor in Global Supply Chains\",\n",
        "    \"Facial Recognition and Surveillance\",\n",
        "    \"Climate-Induced Migration\",\n",
        "    \"Esports Industry Growth\",\n",
        "    \"Education Inequality Post-Pandemic\"\n",
        "]\n",
        "\n",
        "cache_path = './data/test_data_20_5000_raw.json'\n",
        "# Retrieve articles\n",
        "test_all_articles = receiver.retrieve(test_topics, cache_file=cache_path)\n",
        "\n",
        "print(f\"Total articles retrieved: {sum(len(resp['articles']) for resp in test_all_articles)}\")\n"
      ]
    },
    {
      "cell_type": "code",
      "execution_count": 9,
      "metadata": {
        "colab": {
          "base_uri": "https://localhost:8080/"
        },
        "id": "1Qadf2vDwLjF",
        "outputId": "4b3467a0-8c99-46b6-e213-8dcc22fe06b8"
      },
      "outputs": [
        {
          "name": "stdout",
          "output_type": "stream",
          "text": [
            "Sources in training dataset include: ['Gizmodo.com', 'BBC News', 'Slashdot.org', 'NPR', 'Wired', 'ABC News', 'Time', 'Yahoo Entertainment', 'The Verge', 'The New Republic', 'The Atlantic', 'Politicopro.com', 'Scientific American', 'Android Police', 'New Scientist', 'Business Insider', 'The Next Web', 'CNET', 'Android Central', 'Science Daily', 'Rolling Stone', 'Vox', 'Space.com', 'Phys.Org', 'Al Jazeera English', 'MetroWest Daily News', 'World Politics Review', '/FILM', 'Deadline', 'Just Jared', 'Kasurian.com', 'IndieWire', 'Raw Story', 'Practical Ecommerce', 'New York Post', 'Juancole.com', 'Naturalnews.com', 'Forbes', 'Nakedcapitalism.com', 'The Cut', 'RT', 'NBC News', 'Dazed', 'Inside Higher Ed', 'Knowyourmeme.com', 'CNA', 'The New York Review of Books', 'International Business Times', 'Democracy Now!', 'Mondediplo.com', 'The Intercept', 'Sputnikglobe.com', 'TheWrap', 'Israelnationalnews.com', 'Loudwire', 'CounterPunch', 'Cosmopolitan.com', 'USA Today', 'Thenation.com', 'Newsweek', 'Boston Herald', 'MetalSucks', 'Antiwar.com', 'Vanity Fair', 'Globalsecurity.org', 'Legalinsurrection.com', 'Hurriyet Daily News', 'The Conversation Africa', 'Snopes.com', 'The-independent.com', 'War on the Rocks', 'Securityaffairs.com', 'The Daily Caller', 'Foreign Policy', 'Biztoc.com', 'CNN', 'AppleInsider', 'PCWorld', 'The Week Magazine', 'ABC News (AU)', 'Bangkok Post', 'Breitbart News', 'Spacewar.com', 'Econbrowser.com', 'Theaviationist.com', 'Smallwarsjournal.com', 'Skift', 'New York Magazine', 'DW (English)', 'Americanthinker.com', 'CBS News', 'Chinadigitaltimes.net', 'Liveandletsfly.com', 'ScienceAlert', 'Reason', 'CleanTechnica', 'EURACTIV', 'Calculatedriskblog.com', 'The Texas Tribune', 'Milwaukee Journal Sentinel', 'Theregister.com', 'Seths.blog', 'VentureBeat', 'Harvard Business Review', 'Joshwcomeau.com', '9to5Mac', 'GameSpot', 'Windows Central', 'Gitconnected.com', 'Quartz India', 'Google News', 'Hubspot.com', 'Search Engine Journal', 'Aethn.com', 'Digital Trends', 'Wheresyoured.at', 'Giovanh.com', 'Hacker News', 'Substack.com', 'Yanko Design', 'TechRadar', 'CoinDesk', 'The Times of India', 'Cointelegraph', 'Verdict', 'Finextra', 'MSNBC', 'Insurance Journal', 'Erickimphotography.com', 'Bitcoinist', 'ProPublica', 'Activistpost.com', 'Project Syndicate', 'Observer', 'Mit.edu', 'Sky.com', 'pymnts.com', 'CBC News', 'Economictimes.com', 'Europa.eu', 'Survivalblog.com', 'Digiday', 'SiliconANGLE News', 'MediaNama.com', 'GlobeNewswire', 'Techtarget.com', 'The Irish Times', 'Digital Journal', 'Freerepublic.com', 'Ibtimes.com.au', 'Fox News', 'The New Yorker', 'The National Interest ', 'Wattsupwiththat.com', 'TheBlaze', 'Daily Signal', 'The Star Online', 'Grist', \"Paul Tan's Automotive News\", 'InfoQ.com', 'Strategy-business.com', 'Wnd.com', 'Mediafax.ro', 'The-sun.com', 'MarketingProfs.com', 'Dwarkesh.com', 'Plos.org', 'TechCrunch', 'Github.com', 'Blog.google', 'Schott.com', 'Schneier.com', 'Phandroid - News for Android', 'Techdirt', 'Darknet.org.uk', 'Trendwatching.com', 'Psychology Today', 'Neowin', 'Study Finds', 'Spaceexplored.com', 'NASA', 'Live Science', 'The Space Review', 'Moondaily.com', 'Space Daily', 'Twit.tv', 'Wccftech', 'Decrypt', 'Gadgets360.com', 'BusinessLine', 'PBS', 'Discover Magazine', 'Futurism', 'Aero-news.net', 'Global News', 'WFTV Orlando', 'WKMG News 6 & ClickOrlando', 'Dzone.com', 'Techpowerup.com', 'Javacodegeeks.com', 'Quanta Magazine', 'Forrester.com', 'Thoughtbot.com', 'Trendmicro.com', 'ETF Daily News', 'Justcreative.com', 'Financial Post', 'WebProNews', 'Lithub.com', 'ComputerWeekly.com', 'Harvard School of Engineering and Applied Sciences', 'PR Newswire UK', 'New Zealand Herald', 'Livemint', 'Www.gov.uk', 'Vmblog.com', 'TelecomTV', 'Puri.sm', 'CNBC', 'Quantumfrontiers.com', 'Computerworld', 'Krebs on Security', 'Cybersecuritypulse.net', 'Help Net Security', 'Resecurity.com', 'Microsoft.com', 'Nextgov', 'Truthout', 'Acm.org', 'Westernjournal.com', 'PCMag.com', 'Protothema.gr', 'NDTV News', 'Defense One', 'Afp.com', 'Dissidentvoice.org', 'Energycentral.com', 'The Jerusalem Post', 'Lse.ac.uk', 'Hoover.org', 'Deeshaa.org', 'Tomdispatch.com', 'Lewrockwell.com', 'MacRumors', 'PetaPixel', 'HYPEBEAST', 'Idownloadblog.com', 'Adweek', 'Hootsuite.com', 'Poynter', 'Bleeding Cool News', 'Medium', 'Afterbabel.com', 'Japan Today', 'Complex', 'The Hollywood Gossip', 'The Mac Observer', 'Hollywood Life', 'PR Daily', 'The Punch', 'Android Headlines', 'TechNode', 'Tech Xplore', 'Tubefilter', 'Stratechery.com', 'Futurity: Research News', 'Flowingdata.com', 'Abduzeedo.com', 'Artofmanliness.com', 'Oldschoolburke.com', 'Pew Research Center', 'Boredpanda.com', 'Mental Floss', 'ESPN', 'Maxhertzberg.co.uk', 'mindbodygreen.com', 'Jeffbullas.com', 'FOX 4 News', 'Feld.com', 'Chowhound', 'Detroit Free Press', 'Evchargingstations.com', 'The Hill', 'Just-auto.com', 'BMWBLOG', 'Digitimes', 'Electrek', 'CFO Dive', 'Theabsolutesound.com', 'Mediaite', 'Creative Bloq', 'Newsonjapan.com', 'Nextbigwhat.com', 'OilPrice.com', 'Popular Science', 'Officesnapshots.com', 'Elearningindustry.com', 'Paloaltonetworks.com', 'Typeforyou.org', 'Tenable.com', 'Histalk2.com', 'Businessleader.co.uk', 'Rolling Out', 'spacing.ca', 'Thenightly.com.au', 'Sqlservercentral.com', 'ArchDaily', 'cleveland.com', 'Gouv.fr', 'Shtfplan.com', 'Everything-everywhere.com', 'CryptoSlate', 'newsBTC', 'The Daily Hodl', 'Crypto Briefing', 'Prtimes.jp', 'Thegatewaypundit.com', 'Ambcrypto.com', 'ZyCrypto', 'The Truth About Guns', 'Levernews.com', 'Us Weekly', 'HuffPost', 'Fair Observer', 'Common Dreams', 'National Observer', 'Roanoke Times', 'The Denver Post', 'Richmond.com', 'Kffhealthnews.org', 'The Portland Mercury', 'Atlanta Journal Constitution', 'National Post', 'In These Times', 'Ssir.org', 'The American Conservative', 'Getfootballnewsgermany.com', 'Mondoweiss', 'Skepticalscience.com', 'London Review of Books', 'Resilience', 'Energy-daily.com', 'People.cn', 'ZDNet', 'Business Today', 'Decommerce.com', 'Khabarhub.com', 'Core77.com', 'Longreads.com', 'The Japan Times', 'Designboom', 'Offgridsurvival.com', 'Stanford.edu', 'Creative Boom', 'Mercola.com', 'Norml.org', 'Mining Technology', 'Fark.com', 'MobileSyrup', 'Edsurge.com', 'Federalreserve.gov', 'Researchbuzz.me', 'Yale.edu', 'FactCheck.org', 'Mother Jones']\n"
          ]
        },
        {
          "name": "stderr",
          "output_type": "stream",
          "text": [
            "                                                                                   \r"
          ]
        },
        {
          "name": "stdout",
          "output_type": "stream",
          "text": [
            "[AI in Criminal Justice]: 49 sources, 81 articles/96, 5110 sentences, 0 failed\n"
          ]
        },
        {
          "name": "stderr",
          "output_type": "stream",
          "text": [
            "                                                                                    \r"
          ]
        },
        {
          "name": "stdout",
          "output_type": "stream",
          "text": [
            "[Social Media Regulation]: 44 sources, 82 articles/93, 5620 sentences, 1 failed\n"
          ]
        },
        {
          "name": "stderr",
          "output_type": "stream",
          "text": [
            "                                                                                         \r"
          ]
        },
        {
          "name": "stdout",
          "output_type": "stream",
          "text": [
            "[Youth Unemployment in Europe]: 13 sources, 17 articles/23, 1881 sentences, 1 failed\n"
          ]
        },
        {
          "name": "stderr",
          "output_type": "stream",
          "text": [
            "                                                                                            \r"
          ]
        },
        {
          "name": "stdout",
          "output_type": "stream",
          "text": [
            "[U.S. Border Security Technology]: 37 sources, 88 articles/99, 5457 sentences, 0 failed\n"
          ]
        },
        {
          "name": "stderr",
          "output_type": "stream",
          "text": [
            "                                                                                 \r"
          ]
        },
        {
          "name": "stdout",
          "output_type": "stream",
          "text": [
            "[Ukraine-Russia War]: 12 sources, 96 articles/100, 3953 sentences, 3 failed\n"
          ]
        },
        {
          "name": "stderr",
          "output_type": "stream",
          "text": [
            "                                                                                  \r"
          ]
        },
        {
          "name": "stdout",
          "output_type": "stream",
          "text": [
            "[Nuclear Energy Debate]: 45 sources, 83 articles/97, 7065 sentences, 2 failed\n"
          ]
        },
        {
          "name": "stderr",
          "output_type": "stream",
          "text": [
            "                                                                                 \r"
          ]
        },
        {
          "name": "stdout",
          "output_type": "stream",
          "text": [
            "[Digital Privacy Laws]: 35 sources, 72 articles/95, 4432 sentences, 0 failed\n"
          ]
        },
        {
          "name": "stderr",
          "output_type": "stream",
          "text": [
            "                                                                                       \r"
          ]
        },
        {
          "name": "stdout",
          "output_type": "stream",
          "text": [
            "[Global Plastic Waste Trade]: 17 sources, 33 articles/40, 3949 sentences, 0 failed\n"
          ]
        },
        {
          "name": "stderr",
          "output_type": "stream",
          "text": [
            "                                                                                     \r"
          ]
        },
        {
          "name": "stdout",
          "output_type": "stream",
          "text": [
            "[Hollywood Streaming Wars]: 22 sources, 41 articles/94, 2664 sentences, 2 failed\n"
          ]
        },
        {
          "name": "stderr",
          "output_type": "stream",
          "text": [
            "                                                                                 \r"
          ]
        },
        {
          "name": "stdout",
          "output_type": "stream",
          "text": [
            "[Global Food Security]: 32 sources, 87 articles/96, 4954 sentences, 0 failed\n"
          ]
        },
        {
          "name": "stderr",
          "output_type": "stream",
          "text": [
            "                                                                                      \r"
          ]
        },
        {
          "name": "stdout",
          "output_type": "stream",
          "text": [
            "[5G Technology Expansion]: 20 sources, 86 articles/100, 8884 sentences, 0 failed\n"
          ]
        },
        {
          "name": "stderr",
          "output_type": "stream",
          "text": [
            "                                                                                      \r"
          ]
        },
        {
          "name": "stdout",
          "output_type": "stream",
          "text": [
            "[Deep Sea Mining Controversy]: 5 sources, 5 articles/5, 496 sentences, 0 failed\n"
          ]
        },
        {
          "name": "stderr",
          "output_type": "stream",
          "text": [
            "                                                                                                \r"
          ]
        },
        {
          "name": "stdout",
          "output_type": "stream",
          "text": [
            "[Artificial Meat and Food Innovation]: 12 sources, 17 articles/18, 2586 sentences, 0 failed\n"
          ]
        },
        {
          "name": "stderr",
          "output_type": "stream",
          "text": [
            "                                                                                 \r"
          ]
        },
        {
          "name": "stdout",
          "output_type": "stream",
          "text": [
            "[Women's Rights in Iran]: 4 sources, 5 articles/5, 304 sentences, 0 failed\n"
          ]
        },
        {
          "name": "stderr",
          "output_type": "stream",
          "text": [
            "                                                                                       \r"
          ]
        },
        {
          "name": "stdout",
          "output_type": "stream",
          "text": [
            "[Space Tourism Developments]: 19 sources, 35 articles/43, 2878 sentences, 0 failed\n"
          ]
        },
        {
          "name": "stderr",
          "output_type": "stream",
          "text": [
            "                                                                                                \r"
          ]
        },
        {
          "name": "stdout",
          "output_type": "stream",
          "text": [
            "[Child Labor in Global Supply Chains]: 18 sources, 23 articles/34, 3199 sentences, 1 failed\n"
          ]
        },
        {
          "name": "stderr",
          "output_type": "stream",
          "text": [
            "                                                                                                \r"
          ]
        },
        {
          "name": "stdout",
          "output_type": "stream",
          "text": [
            "[Facial Recognition and Surveillance]: 49 sources, 79 articles/95, 3954 sentences, 3 failed\n"
          ]
        },
        {
          "name": "stderr",
          "output_type": "stream",
          "text": [
            "                                                                                      \r"
          ]
        },
        {
          "name": "stdout",
          "output_type": "stream",
          "text": [
            "[Climate-Induced Migration]: 12 sources, 20 articles/25, 9374 sentences, 0 failed\n"
          ]
        },
        {
          "name": "stderr",
          "output_type": "stream",
          "text": [
            "                                                                                    \r"
          ]
        },
        {
          "name": "stdout",
          "output_type": "stream",
          "text": [
            "[Esports Industry Growth]: 12 sources, 42 articles/50, 2255 sentences, 0 failed\n"
          ]
        },
        {
          "name": "stderr",
          "output_type": "stream",
          "text": [
            "                                                                                               \r"
          ]
        },
        {
          "name": "stdout",
          "output_type": "stream",
          "text": [
            "[Education Inequality Post-Pandemic]: 8 sources, 12 articles/16, 3479 sentences, 0 failed\n",
            "\n",
            " Total: 20 topics, 1004 articles, 82494 sentences\n",
            "Saved data to cache file './data/test_data_20_5000.json'.\n",
            "Test data shape: (82494, 7)\n"
          ]
        },
        {
          "data": {
            "text/html": [
              "<div>\n",
              "<style scoped>\n",
              "    .dataframe tbody tr th:only-of-type {\n",
              "        vertical-align: middle;\n",
              "    }\n",
              "\n",
              "    .dataframe tbody tr th {\n",
              "        vertical-align: top;\n",
              "    }\n",
              "\n",
              "    .dataframe thead th {\n",
              "        text-align: right;\n",
              "    }\n",
              "</style>\n",
              "<table border=\"1\" class=\"dataframe\">\n",
              "  <thead>\n",
              "    <tr style=\"text-align: right;\">\n",
              "      <th></th>\n",
              "      <th>id</th>\n",
              "      <th>topic</th>\n",
              "      <th>source</th>\n",
              "      <th>title</th>\n",
              "      <th>description</th>\n",
              "      <th>sentence</th>\n",
              "      <th>author</th>\n",
              "    </tr>\n",
              "  </thead>\n",
              "  <tbody>\n",
              "    <tr>\n",
              "      <th>0</th>\n",
              "      <td>0</td>\n",
              "      <td>AI in Criminal Justice</td>\n",
              "      <td>The Verge</td>\n",
              "      <td>This ICE-snitching app is actually promoting a...</td>\n",
              "      <td>Right-wing influencers are shilling an app tha...</td>\n",
              "      <td>Right-wing influencers are shilling an app tha...</td>\n",
              "      <td>Gaby Del Valle</td>\n",
              "    </tr>\n",
              "    <tr>\n",
              "      <th>1</th>\n",
              "      <td>0</td>\n",
              "      <td>AI in Criminal Justice</td>\n",
              "      <td>The Verge</td>\n",
              "      <td>This ICE-snitching app is actually promoting a...</td>\n",
              "      <td>Right-wing influencers are shilling an app tha...</td>\n",
              "      <td>ICERAID, a “GovFi protocol that delegates inte...</td>\n",
              "      <td>Gaby Del Valle</td>\n",
              "    </tr>\n",
              "    <tr>\n",
              "      <th>2</th>\n",
              "      <td>0</td>\n",
              "      <td>AI in Criminal Justice</td>\n",
              "      <td>The Verge</td>\n",
              "      <td>This ICE-snitching app is actually promoting a...</td>\n",
              "      <td>Right-wing influencers are shilling an app tha...</td>\n",
              "      <td>“It’s like a citizen’s arrest, but with Wi-Fi,...</td>\n",
              "      <td>Gaby Del Valle</td>\n",
              "    </tr>\n",
              "  </tbody>\n",
              "</table>\n",
              "</div>"
            ],
            "text/plain": [
              "   id                   topic     source  \\\n",
              "0   0  AI in Criminal Justice  The Verge   \n",
              "1   0  AI in Criminal Justice  The Verge   \n",
              "2   0  AI in Criminal Justice  The Verge   \n",
              "\n",
              "                                               title  \\\n",
              "0  This ICE-snitching app is actually promoting a...   \n",
              "1  This ICE-snitching app is actually promoting a...   \n",
              "2  This ICE-snitching app is actually promoting a...   \n",
              "\n",
              "                                         description  \\\n",
              "0  Right-wing influencers are shilling an app tha...   \n",
              "1  Right-wing influencers are shilling an app tha...   \n",
              "2  Right-wing influencers are shilling an app tha...   \n",
              "\n",
              "                                            sentence          author  \n",
              "0  Right-wing influencers are shilling an app tha...  Gaby Del Valle  \n",
              "1  ICERAID, a “GovFi protocol that delegates inte...  Gaby Del Valle  \n",
              "2  “It’s like a citizen’s arrest, but with Wi-Fi,...  Gaby Del Valle  "
            ]
          },
          "execution_count": 9,
          "metadata": {},
          "output_type": "execute_result"
        }
      ],
      "source": [
        "from useful_tools import UsefulTools\n",
        "# Process test data\n",
        "allowed_sources = training_builder.sources\n",
        "print(f\"Sources in training dataset include: {list(allowed_sources.keys())}\")\n",
        "\n",
        "ARTICLES_PER_SOURCE = 50\n",
        "SENT_PER_SOURCE = 5000\n",
        "test_builder = Df_Builder()\n",
        "test_cache_file = './data/test_data_20_5000.json'\n",
        "\n",
        "# Build and cache the processed test data\n",
        "test_data = test_builder.build(\n",
        "    test_topics,\n",
        "    test_all_articles,\n",
        "    allowed_sources=allowed_sources,\n",
        "    cache_file=test_cache_file\n",
        ")\n",
        "\n",
        "# Final summary\n",
        "print(f\"Test data shape: {test_data.shape}\")\n",
        "test_data.head(3)  # preview first few rows\n"
      ]
    },
    {
      "cell_type": "code",
      "execution_count": 29,
      "metadata": {
        "id": "3_5CCNGbR_cH"
      },
      "outputs": [
        {
          "data": {
            "text/plain": [
              "True"
            ]
          },
          "execution_count": 29,
          "metadata": {},
          "output_type": "execute_result"
        }
      ],
      "source": [
        "# check the sources in test dataset are in training dataset\n",
        "set(test_builder.sources.keys()).issubset(set(allowed_sources.keys()))"
      ]
    }
  ],
  "metadata": {
    "colab": {
      "provenance": []
    },
    "kernelspec": {
      "display_name": "Python 3",
      "name": "python3"
    },
    "language_info": {
      "codemirror_mode": {
        "name": "ipython",
        "version": 3
      },
      "file_extension": ".py",
      "mimetype": "text/x-python",
      "name": "python",
      "nbconvert_exporter": "python",
      "pygments_lexer": "ipython3",
      "version": "3.11.9"
    },
    "widgets": {
      "application/vnd.jupyter.widget-state+json": {
        "074e8e5a66434c159e382e40a1bb462c": {
          "model_module": "@jupyter-widgets/controls",
          "model_module_version": "1.5.0",
          "model_name": "ProgressStyleModel",
          "state": {
            "_model_module": "@jupyter-widgets/controls",
            "_model_module_version": "1.5.0",
            "_model_name": "ProgressStyleModel",
            "_view_count": null,
            "_view_module": "@jupyter-widgets/base",
            "_view_module_version": "1.2.0",
            "_view_name": "StyleView",
            "bar_color": null,
            "description_width": ""
          }
        },
        "1063eb822ba149aaa4b0c71e84e8da35": {
          "model_module": "@jupyter-widgets/controls",
          "model_module_version": "1.5.0",
          "model_name": "FloatProgressModel",
          "state": {
            "_dom_classes": [],
            "_model_module": "@jupyter-widgets/controls",
            "_model_module_version": "1.5.0",
            "_model_name": "FloatProgressModel",
            "_view_count": null,
            "_view_module": "@jupyter-widgets/controls",
            "_view_module_version": "1.5.0",
            "_view_name": "ProgressView",
            "bar_style": "success",
            "description": "",
            "description_tooltip": null,
            "layout": "IPY_MODEL_34ebf7545af649f5a3f4a742fa11c60f",
            "max": 440449768,
            "min": 0,
            "orientation": "horizontal",
            "style": "IPY_MODEL_54093e4583a549d4ace54088836c188e",
            "value": 440449768
          }
        },
        "1153d8b13e86484f8cb9084d1ac883e3": {
          "model_module": "@jupyter-widgets/controls",
          "model_module_version": "1.5.0",
          "model_name": "FloatProgressModel",
          "state": {
            "_dom_classes": [],
            "_model_module": "@jupyter-widgets/controls",
            "_model_module_version": "1.5.0",
            "_model_name": "FloatProgressModel",
            "_view_count": null,
            "_view_module": "@jupyter-widgets/controls",
            "_view_module_version": "1.5.0",
            "_view_name": "ProgressView",
            "bar_style": "success",
            "description": "",
            "description_tooltip": null,
            "layout": "IPY_MODEL_b934c947fa4c4e78b8028b4550c2e300",
            "max": 48,
            "min": 0,
            "orientation": "horizontal",
            "style": "IPY_MODEL_8cae7b9edb4741dcb67c70582bf274d1",
            "value": 48
          }
        },
        "1b8d8d3a243f45a8b9d4a35a206a89b8": {
          "model_module": "@jupyter-widgets/controls",
          "model_module_version": "1.5.0",
          "model_name": "HTMLModel",
          "state": {
            "_dom_classes": [],
            "_model_module": "@jupyter-widgets/controls",
            "_model_module_version": "1.5.0",
            "_model_name": "HTMLModel",
            "_view_count": null,
            "_view_module": "@jupyter-widgets/controls",
            "_view_module_version": "1.5.0",
            "_view_name": "HTMLView",
            "description": "",
            "description_tooltip": null,
            "layout": "IPY_MODEL_db8e4289dd4b4af39e365eeee14817ff",
            "placeholder": "​",
            "style": "IPY_MODEL_22ae68fedb6048c8a70e4c9463bb8b5f",
            "value": " 232k/232k [00:00&lt;00:00, 2.94MB/s]"
          }
        },
        "1baa5b1c068e43018f7e76fa46e0fe55": {
          "model_module": "@jupyter-widgets/controls",
          "model_module_version": "1.5.0",
          "model_name": "DescriptionStyleModel",
          "state": {
            "_model_module": "@jupyter-widgets/controls",
            "_model_module_version": "1.5.0",
            "_model_name": "DescriptionStyleModel",
            "_view_count": null,
            "_view_module": "@jupyter-widgets/base",
            "_view_module_version": "1.2.0",
            "_view_name": "StyleView",
            "description_width": ""
          }
        },
        "1c4465889f63432197a18a7f169c3cc1": {
          "model_module": "@jupyter-widgets/base",
          "model_module_version": "1.2.0",
          "model_name": "LayoutModel",
          "state": {
            "_model_module": "@jupyter-widgets/base",
            "_model_module_version": "1.2.0",
            "_model_name": "LayoutModel",
            "_view_count": null,
            "_view_module": "@jupyter-widgets/base",
            "_view_module_version": "1.2.0",
            "_view_name": "LayoutView",
            "align_content": null,
            "align_items": null,
            "align_self": null,
            "border": null,
            "bottom": null,
            "display": null,
            "flex": null,
            "flex_flow": null,
            "grid_area": null,
            "grid_auto_columns": null,
            "grid_auto_flow": null,
            "grid_auto_rows": null,
            "grid_column": null,
            "grid_gap": null,
            "grid_row": null,
            "grid_template_areas": null,
            "grid_template_columns": null,
            "grid_template_rows": null,
            "height": null,
            "justify_content": null,
            "justify_items": null,
            "left": null,
            "margin": null,
            "max_height": null,
            "max_width": null,
            "min_height": null,
            "min_width": null,
            "object_fit": null,
            "object_position": null,
            "order": null,
            "overflow": null,
            "overflow_x": null,
            "overflow_y": null,
            "padding": null,
            "right": null,
            "top": null,
            "visibility": null,
            "width": null
          }
        },
        "1d193e0c965f45779f5e80d9a4f286b0": {
          "model_module": "@jupyter-widgets/controls",
          "model_module_version": "1.5.0",
          "model_name": "ProgressStyleModel",
          "state": {
            "_model_module": "@jupyter-widgets/controls",
            "_model_module_version": "1.5.0",
            "_model_name": "ProgressStyleModel",
            "_view_count": null,
            "_view_module": "@jupyter-widgets/base",
            "_view_module_version": "1.2.0",
            "_view_name": "StyleView",
            "bar_color": null,
            "description_width": ""
          }
        },
        "21a7052556b64fd690f27718759d7aae": {
          "model_module": "@jupyter-widgets/controls",
          "model_module_version": "1.5.0",
          "model_name": "HBoxModel",
          "state": {
            "_dom_classes": [],
            "_model_module": "@jupyter-widgets/controls",
            "_model_module_version": "1.5.0",
            "_model_name": "HBoxModel",
            "_view_count": null,
            "_view_module": "@jupyter-widgets/controls",
            "_view_module_version": "1.5.0",
            "_view_name": "HBoxView",
            "box_style": "",
            "children": [
              "IPY_MODEL_aefdec99864046c5a1551d1fd36b76ce",
              "IPY_MODEL_876c37982d044cfd87ad1749cb00c91b",
              "IPY_MODEL_d000578be077477390ce3061be0033fc"
            ],
            "layout": "IPY_MODEL_513970cce3a0463e98af86714915b819"
          }
        },
        "22ae68fedb6048c8a70e4c9463bb8b5f": {
          "model_module": "@jupyter-widgets/controls",
          "model_module_version": "1.5.0",
          "model_name": "DescriptionStyleModel",
          "state": {
            "_model_module": "@jupyter-widgets/controls",
            "_model_module_version": "1.5.0",
            "_model_name": "DescriptionStyleModel",
            "_view_count": null,
            "_view_module": "@jupyter-widgets/base",
            "_view_module_version": "1.2.0",
            "_view_name": "StyleView",
            "description_width": ""
          }
        },
        "235748d232be458aa3d833f1e19a3279": {
          "model_module": "@jupyter-widgets/base",
          "model_module_version": "1.2.0",
          "model_name": "LayoutModel",
          "state": {
            "_model_module": "@jupyter-widgets/base",
            "_model_module_version": "1.2.0",
            "_model_name": "LayoutModel",
            "_view_count": null,
            "_view_module": "@jupyter-widgets/base",
            "_view_module_version": "1.2.0",
            "_view_name": "LayoutView",
            "align_content": null,
            "align_items": null,
            "align_self": null,
            "border": null,
            "bottom": null,
            "display": null,
            "flex": null,
            "flex_flow": null,
            "grid_area": null,
            "grid_auto_columns": null,
            "grid_auto_flow": null,
            "grid_auto_rows": null,
            "grid_column": null,
            "grid_gap": null,
            "grid_row": null,
            "grid_template_areas": null,
            "grid_template_columns": null,
            "grid_template_rows": null,
            "height": null,
            "justify_content": null,
            "justify_items": null,
            "left": null,
            "margin": null,
            "max_height": null,
            "max_width": null,
            "min_height": null,
            "min_width": null,
            "object_fit": null,
            "object_position": null,
            "order": null,
            "overflow": null,
            "overflow_x": null,
            "overflow_y": null,
            "padding": null,
            "right": null,
            "top": null,
            "visibility": null,
            "width": null
          }
        },
        "25440473e90a46308ec1f23154a5f5bd": {
          "model_module": "@jupyter-widgets/controls",
          "model_module_version": "1.5.0",
          "model_name": "HTMLModel",
          "state": {
            "_dom_classes": [],
            "_model_module": "@jupyter-widgets/controls",
            "_model_module_version": "1.5.0",
            "_model_name": "HTMLModel",
            "_view_count": null,
            "_view_module": "@jupyter-widgets/controls",
            "_view_module_version": "1.5.0",
            "_view_name": "HTMLView",
            "description": "",
            "description_tooltip": null,
            "layout": "IPY_MODEL_a91cb22b79fa4eb7ba2b4a3cc63eda73",
            "placeholder": "​",
            "style": "IPY_MODEL_af1cecbcdb9041d29ad0d736ba18d785",
            "value": " 570/570 [00:00&lt;00:00, 16.5kB/s]"
          }
        },
        "25bee3394b744ae09e0c87936bc603fe": {
          "model_module": "@jupyter-widgets/base",
          "model_module_version": "1.2.0",
          "model_name": "LayoutModel",
          "state": {
            "_model_module": "@jupyter-widgets/base",
            "_model_module_version": "1.2.0",
            "_model_name": "LayoutModel",
            "_view_count": null,
            "_view_module": "@jupyter-widgets/base",
            "_view_module_version": "1.2.0",
            "_view_name": "LayoutView",
            "align_content": null,
            "align_items": null,
            "align_self": null,
            "border": null,
            "bottom": null,
            "display": null,
            "flex": null,
            "flex_flow": null,
            "grid_area": null,
            "grid_auto_columns": null,
            "grid_auto_flow": null,
            "grid_auto_rows": null,
            "grid_column": null,
            "grid_gap": null,
            "grid_row": null,
            "grid_template_areas": null,
            "grid_template_columns": null,
            "grid_template_rows": null,
            "height": null,
            "justify_content": null,
            "justify_items": null,
            "left": null,
            "margin": null,
            "max_height": null,
            "max_width": null,
            "min_height": null,
            "min_width": null,
            "object_fit": null,
            "object_position": null,
            "order": null,
            "overflow": null,
            "overflow_x": null,
            "overflow_y": null,
            "padding": null,
            "right": null,
            "top": null,
            "visibility": null,
            "width": null
          }
        },
        "2c15fa5ddaf64540b5ed7822ebffbad7": {
          "model_module": "@jupyter-widgets/controls",
          "model_module_version": "1.5.0",
          "model_name": "FloatProgressModel",
          "state": {
            "_dom_classes": [],
            "_model_module": "@jupyter-widgets/controls",
            "_model_module_version": "1.5.0",
            "_model_name": "FloatProgressModel",
            "_view_count": null,
            "_view_module": "@jupyter-widgets/controls",
            "_view_module_version": "1.5.0",
            "_view_name": "ProgressView",
            "bar_style": "danger",
            "description": "",
            "description_tooltip": null,
            "layout": "IPY_MODEL_25bee3394b744ae09e0c87936bc603fe",
            "max": 401,
            "min": 0,
            "orientation": "horizontal",
            "style": "IPY_MODEL_074e8e5a66434c159e382e40a1bb462c",
            "value": 7
          }
        },
        "2fd20ea39c5740468a4613bad9a22301": {
          "model_module": "@jupyter-widgets/base",
          "model_module_version": "1.2.0",
          "model_name": "LayoutModel",
          "state": {
            "_model_module": "@jupyter-widgets/base",
            "_model_module_version": "1.2.0",
            "_model_name": "LayoutModel",
            "_view_count": null,
            "_view_module": "@jupyter-widgets/base",
            "_view_module_version": "1.2.0",
            "_view_name": "LayoutView",
            "align_content": null,
            "align_items": null,
            "align_self": null,
            "border": null,
            "bottom": null,
            "display": null,
            "flex": null,
            "flex_flow": null,
            "grid_area": null,
            "grid_auto_columns": null,
            "grid_auto_flow": null,
            "grid_auto_rows": null,
            "grid_column": null,
            "grid_gap": null,
            "grid_row": null,
            "grid_template_areas": null,
            "grid_template_columns": null,
            "grid_template_rows": null,
            "height": null,
            "justify_content": null,
            "justify_items": null,
            "left": null,
            "margin": null,
            "max_height": null,
            "max_width": null,
            "min_height": null,
            "min_width": null,
            "object_fit": null,
            "object_position": null,
            "order": null,
            "overflow": null,
            "overflow_x": null,
            "overflow_y": null,
            "padding": null,
            "right": null,
            "top": null,
            "visibility": null,
            "width": null
          }
        },
        "3176ea56e8b8470b822c139ed68ba51c": {
          "model_module": "@jupyter-widgets/base",
          "model_module_version": "1.2.0",
          "model_name": "LayoutModel",
          "state": {
            "_model_module": "@jupyter-widgets/base",
            "_model_module_version": "1.2.0",
            "_model_name": "LayoutModel",
            "_view_count": null,
            "_view_module": "@jupyter-widgets/base",
            "_view_module_version": "1.2.0",
            "_view_name": "LayoutView",
            "align_content": null,
            "align_items": null,
            "align_self": null,
            "border": null,
            "bottom": null,
            "display": null,
            "flex": null,
            "flex_flow": null,
            "grid_area": null,
            "grid_auto_columns": null,
            "grid_auto_flow": null,
            "grid_auto_rows": null,
            "grid_column": null,
            "grid_gap": null,
            "grid_row": null,
            "grid_template_areas": null,
            "grid_template_columns": null,
            "grid_template_rows": null,
            "height": null,
            "justify_content": null,
            "justify_items": null,
            "left": null,
            "margin": null,
            "max_height": null,
            "max_width": null,
            "min_height": null,
            "min_width": null,
            "object_fit": null,
            "object_position": null,
            "order": null,
            "overflow": null,
            "overflow_x": null,
            "overflow_y": null,
            "padding": null,
            "right": null,
            "top": null,
            "visibility": null,
            "width": null
          }
        },
        "34ebf7545af649f5a3f4a742fa11c60f": {
          "model_module": "@jupyter-widgets/base",
          "model_module_version": "1.2.0",
          "model_name": "LayoutModel",
          "state": {
            "_model_module": "@jupyter-widgets/base",
            "_model_module_version": "1.2.0",
            "_model_name": "LayoutModel",
            "_view_count": null,
            "_view_module": "@jupyter-widgets/base",
            "_view_module_version": "1.2.0",
            "_view_name": "LayoutView",
            "align_content": null,
            "align_items": null,
            "align_self": null,
            "border": null,
            "bottom": null,
            "display": null,
            "flex": null,
            "flex_flow": null,
            "grid_area": null,
            "grid_auto_columns": null,
            "grid_auto_flow": null,
            "grid_auto_rows": null,
            "grid_column": null,
            "grid_gap": null,
            "grid_row": null,
            "grid_template_areas": null,
            "grid_template_columns": null,
            "grid_template_rows": null,
            "height": null,
            "justify_content": null,
            "justify_items": null,
            "left": null,
            "margin": null,
            "max_height": null,
            "max_width": null,
            "min_height": null,
            "min_width": null,
            "object_fit": null,
            "object_position": null,
            "order": null,
            "overflow": null,
            "overflow_x": null,
            "overflow_y": null,
            "padding": null,
            "right": null,
            "top": null,
            "visibility": null,
            "width": null
          }
        },
        "36c7b3979d104dc9b1b95a1cdef5fbb4": {
          "model_module": "@jupyter-widgets/controls",
          "model_module_version": "1.5.0",
          "model_name": "ProgressStyleModel",
          "state": {
            "_model_module": "@jupyter-widgets/controls",
            "_model_module_version": "1.5.0",
            "_model_name": "ProgressStyleModel",
            "_view_count": null,
            "_view_module": "@jupyter-widgets/base",
            "_view_module_version": "1.2.0",
            "_view_name": "StyleView",
            "bar_color": null,
            "description_width": ""
          }
        },
        "3880284b92954e06ae6fcdb1646ec1dc": {
          "model_module": "@jupyter-widgets/base",
          "model_module_version": "1.2.0",
          "model_name": "LayoutModel",
          "state": {
            "_model_module": "@jupyter-widgets/base",
            "_model_module_version": "1.2.0",
            "_model_name": "LayoutModel",
            "_view_count": null,
            "_view_module": "@jupyter-widgets/base",
            "_view_module_version": "1.2.0",
            "_view_name": "LayoutView",
            "align_content": null,
            "align_items": null,
            "align_self": null,
            "border": null,
            "bottom": null,
            "display": null,
            "flex": null,
            "flex_flow": null,
            "grid_area": null,
            "grid_auto_columns": null,
            "grid_auto_flow": null,
            "grid_auto_rows": null,
            "grid_column": null,
            "grid_gap": null,
            "grid_row": null,
            "grid_template_areas": null,
            "grid_template_columns": null,
            "grid_template_rows": null,
            "height": null,
            "justify_content": null,
            "justify_items": null,
            "left": null,
            "margin": null,
            "max_height": null,
            "max_width": null,
            "min_height": null,
            "min_width": null,
            "object_fit": null,
            "object_position": null,
            "order": null,
            "overflow": null,
            "overflow_x": null,
            "overflow_y": null,
            "padding": null,
            "right": null,
            "top": null,
            "visibility": null,
            "width": null
          }
        },
        "39bffff95caa4db9a1a31616e2f37966": {
          "model_module": "@jupyter-widgets/base",
          "model_module_version": "1.2.0",
          "model_name": "LayoutModel",
          "state": {
            "_model_module": "@jupyter-widgets/base",
            "_model_module_version": "1.2.0",
            "_model_name": "LayoutModel",
            "_view_count": null,
            "_view_module": "@jupyter-widgets/base",
            "_view_module_version": "1.2.0",
            "_view_name": "LayoutView",
            "align_content": null,
            "align_items": null,
            "align_self": null,
            "border": null,
            "bottom": null,
            "display": null,
            "flex": null,
            "flex_flow": null,
            "grid_area": null,
            "grid_auto_columns": null,
            "grid_auto_flow": null,
            "grid_auto_rows": null,
            "grid_column": null,
            "grid_gap": null,
            "grid_row": null,
            "grid_template_areas": null,
            "grid_template_columns": null,
            "grid_template_rows": null,
            "height": null,
            "justify_content": null,
            "justify_items": null,
            "left": null,
            "margin": null,
            "max_height": null,
            "max_width": null,
            "min_height": null,
            "min_width": null,
            "object_fit": null,
            "object_position": null,
            "order": null,
            "overflow": null,
            "overflow_x": null,
            "overflow_y": null,
            "padding": null,
            "right": null,
            "top": null,
            "visibility": null,
            "width": null
          }
        },
        "3cf4b7d5440f44fabe12da9442bd3420": {
          "model_module": "@jupyter-widgets/base",
          "model_module_version": "1.2.0",
          "model_name": "LayoutModel",
          "state": {
            "_model_module": "@jupyter-widgets/base",
            "_model_module_version": "1.2.0",
            "_model_name": "LayoutModel",
            "_view_count": null,
            "_view_module": "@jupyter-widgets/base",
            "_view_module_version": "1.2.0",
            "_view_name": "LayoutView",
            "align_content": null,
            "align_items": null,
            "align_self": null,
            "border": null,
            "bottom": null,
            "display": null,
            "flex": null,
            "flex_flow": null,
            "grid_area": null,
            "grid_auto_columns": null,
            "grid_auto_flow": null,
            "grid_auto_rows": null,
            "grid_column": null,
            "grid_gap": null,
            "grid_row": null,
            "grid_template_areas": null,
            "grid_template_columns": null,
            "grid_template_rows": null,
            "height": null,
            "justify_content": null,
            "justify_items": null,
            "left": null,
            "margin": null,
            "max_height": null,
            "max_width": null,
            "min_height": null,
            "min_width": null,
            "object_fit": null,
            "object_position": null,
            "order": null,
            "overflow": null,
            "overflow_x": null,
            "overflow_y": null,
            "padding": null,
            "right": null,
            "top": null,
            "visibility": null,
            "width": null
          }
        },
        "3dede42e16194126a9d88d858c91177e": {
          "model_module": "@jupyter-widgets/base",
          "model_module_version": "1.2.0",
          "model_name": "LayoutModel",
          "state": {
            "_model_module": "@jupyter-widgets/base",
            "_model_module_version": "1.2.0",
            "_model_name": "LayoutModel",
            "_view_count": null,
            "_view_module": "@jupyter-widgets/base",
            "_view_module_version": "1.2.0",
            "_view_name": "LayoutView",
            "align_content": null,
            "align_items": null,
            "align_self": null,
            "border": null,
            "bottom": null,
            "display": null,
            "flex": null,
            "flex_flow": null,
            "grid_area": null,
            "grid_auto_columns": null,
            "grid_auto_flow": null,
            "grid_auto_rows": null,
            "grid_column": null,
            "grid_gap": null,
            "grid_row": null,
            "grid_template_areas": null,
            "grid_template_columns": null,
            "grid_template_rows": null,
            "height": null,
            "justify_content": null,
            "justify_items": null,
            "left": null,
            "margin": null,
            "max_height": null,
            "max_width": null,
            "min_height": null,
            "min_width": null,
            "object_fit": null,
            "object_position": null,
            "order": null,
            "overflow": null,
            "overflow_x": null,
            "overflow_y": null,
            "padding": null,
            "right": null,
            "top": null,
            "visibility": null,
            "width": null
          }
        },
        "42c7da156d984f178d1615c812ae0e12": {
          "model_module": "@jupyter-widgets/base",
          "model_module_version": "1.2.0",
          "model_name": "LayoutModel",
          "state": {
            "_model_module": "@jupyter-widgets/base",
            "_model_module_version": "1.2.0",
            "_model_name": "LayoutModel",
            "_view_count": null,
            "_view_module": "@jupyter-widgets/base",
            "_view_module_version": "1.2.0",
            "_view_name": "LayoutView",
            "align_content": null,
            "align_items": null,
            "align_self": null,
            "border": null,
            "bottom": null,
            "display": null,
            "flex": null,
            "flex_flow": null,
            "grid_area": null,
            "grid_auto_columns": null,
            "grid_auto_flow": null,
            "grid_auto_rows": null,
            "grid_column": null,
            "grid_gap": null,
            "grid_row": null,
            "grid_template_areas": null,
            "grid_template_columns": null,
            "grid_template_rows": null,
            "height": null,
            "justify_content": null,
            "justify_items": null,
            "left": null,
            "margin": null,
            "max_height": null,
            "max_width": null,
            "min_height": null,
            "min_width": null,
            "object_fit": null,
            "object_position": null,
            "order": null,
            "overflow": null,
            "overflow_x": null,
            "overflow_y": null,
            "padding": null,
            "right": null,
            "top": null,
            "visibility": null,
            "width": null
          }
        },
        "42e728b9e00d4213b615bf50208f6964": {
          "model_module": "@jupyter-widgets/controls",
          "model_module_version": "1.5.0",
          "model_name": "DescriptionStyleModel",
          "state": {
            "_model_module": "@jupyter-widgets/controls",
            "_model_module_version": "1.5.0",
            "_model_name": "DescriptionStyleModel",
            "_view_count": null,
            "_view_module": "@jupyter-widgets/base",
            "_view_module_version": "1.2.0",
            "_view_name": "StyleView",
            "description_width": ""
          }
        },
        "44f367947eb843c3904a817912fcbdb7": {
          "model_module": "@jupyter-widgets/controls",
          "model_module_version": "1.5.0",
          "model_name": "FloatProgressModel",
          "state": {
            "_dom_classes": [],
            "_model_module": "@jupyter-widgets/controls",
            "_model_module_version": "1.5.0",
            "_model_name": "FloatProgressModel",
            "_view_count": null,
            "_view_module": "@jupyter-widgets/controls",
            "_view_module_version": "1.5.0",
            "_view_name": "ProgressView",
            "bar_style": "success",
            "description": "",
            "description_tooltip": null,
            "layout": "IPY_MODEL_39bffff95caa4db9a1a31616e2f37966",
            "max": 570,
            "min": 0,
            "orientation": "horizontal",
            "style": "IPY_MODEL_36c7b3979d104dc9b1b95a1cdef5fbb4",
            "value": 570
          }
        },
        "4fd4d6452c974fda84ec9a70b019f068": {
          "model_module": "@jupyter-widgets/controls",
          "model_module_version": "1.5.0",
          "model_name": "HTMLModel",
          "state": {
            "_dom_classes": [],
            "_model_module": "@jupyter-widgets/controls",
            "_model_module_version": "1.5.0",
            "_model_name": "HTMLModel",
            "_view_count": null,
            "_view_module": "@jupyter-widgets/controls",
            "_view_module_version": "1.5.0",
            "_view_name": "HTMLView",
            "description": "",
            "description_tooltip": null,
            "layout": "IPY_MODEL_235748d232be458aa3d833f1e19a3279",
            "placeholder": "​",
            "style": "IPY_MODEL_9aab102b535744e196a73021935fb1d8",
            "value": "config.json: 100%"
          }
        },
        "50d3bf9533d64ef9a9ef0845d2ec4307": {
          "model_module": "@jupyter-widgets/base",
          "model_module_version": "1.2.0",
          "model_name": "LayoutModel",
          "state": {
            "_model_module": "@jupyter-widgets/base",
            "_model_module_version": "1.2.0",
            "_model_name": "LayoutModel",
            "_view_count": null,
            "_view_module": "@jupyter-widgets/base",
            "_view_module_version": "1.2.0",
            "_view_name": "LayoutView",
            "align_content": null,
            "align_items": null,
            "align_self": null,
            "border": null,
            "bottom": null,
            "display": null,
            "flex": null,
            "flex_flow": null,
            "grid_area": null,
            "grid_auto_columns": null,
            "grid_auto_flow": null,
            "grid_auto_rows": null,
            "grid_column": null,
            "grid_gap": null,
            "grid_row": null,
            "grid_template_areas": null,
            "grid_template_columns": null,
            "grid_template_rows": null,
            "height": null,
            "justify_content": null,
            "justify_items": null,
            "left": null,
            "margin": null,
            "max_height": null,
            "max_width": null,
            "min_height": null,
            "min_width": null,
            "object_fit": null,
            "object_position": null,
            "order": null,
            "overflow": null,
            "overflow_x": null,
            "overflow_y": null,
            "padding": null,
            "right": null,
            "top": null,
            "visibility": null,
            "width": null
          }
        },
        "513970cce3a0463e98af86714915b819": {
          "model_module": "@jupyter-widgets/base",
          "model_module_version": "1.2.0",
          "model_name": "LayoutModel",
          "state": {
            "_model_module": "@jupyter-widgets/base",
            "_model_module_version": "1.2.0",
            "_model_name": "LayoutModel",
            "_view_count": null,
            "_view_module": "@jupyter-widgets/base",
            "_view_module_version": "1.2.0",
            "_view_name": "LayoutView",
            "align_content": null,
            "align_items": null,
            "align_self": null,
            "border": null,
            "bottom": null,
            "display": null,
            "flex": null,
            "flex_flow": null,
            "grid_area": null,
            "grid_auto_columns": null,
            "grid_auto_flow": null,
            "grid_auto_rows": null,
            "grid_column": null,
            "grid_gap": null,
            "grid_row": null,
            "grid_template_areas": null,
            "grid_template_columns": null,
            "grid_template_rows": null,
            "height": null,
            "justify_content": null,
            "justify_items": null,
            "left": null,
            "margin": null,
            "max_height": null,
            "max_width": null,
            "min_height": null,
            "min_width": null,
            "object_fit": null,
            "object_position": null,
            "order": null,
            "overflow": null,
            "overflow_x": null,
            "overflow_y": null,
            "padding": null,
            "right": null,
            "top": null,
            "visibility": null,
            "width": null
          }
        },
        "54093e4583a549d4ace54088836c188e": {
          "model_module": "@jupyter-widgets/controls",
          "model_module_version": "1.5.0",
          "model_name": "ProgressStyleModel",
          "state": {
            "_model_module": "@jupyter-widgets/controls",
            "_model_module_version": "1.5.0",
            "_model_name": "ProgressStyleModel",
            "_view_count": null,
            "_view_module": "@jupyter-widgets/base",
            "_view_module_version": "1.2.0",
            "_view_name": "StyleView",
            "bar_color": null,
            "description_width": ""
          }
        },
        "57c97c694bf74dc28d87f95e5865b9e0": {
          "model_module": "@jupyter-widgets/base",
          "model_module_version": "1.2.0",
          "model_name": "LayoutModel",
          "state": {
            "_model_module": "@jupyter-widgets/base",
            "_model_module_version": "1.2.0",
            "_model_name": "LayoutModel",
            "_view_count": null,
            "_view_module": "@jupyter-widgets/base",
            "_view_module_version": "1.2.0",
            "_view_name": "LayoutView",
            "align_content": null,
            "align_items": null,
            "align_self": null,
            "border": null,
            "bottom": null,
            "display": null,
            "flex": null,
            "flex_flow": null,
            "grid_area": null,
            "grid_auto_columns": null,
            "grid_auto_flow": null,
            "grid_auto_rows": null,
            "grid_column": null,
            "grid_gap": null,
            "grid_row": null,
            "grid_template_areas": null,
            "grid_template_columns": null,
            "grid_template_rows": null,
            "height": null,
            "justify_content": null,
            "justify_items": null,
            "left": null,
            "margin": null,
            "max_height": null,
            "max_width": null,
            "min_height": null,
            "min_width": null,
            "object_fit": null,
            "object_position": null,
            "order": null,
            "overflow": null,
            "overflow_x": null,
            "overflow_y": null,
            "padding": null,
            "right": null,
            "top": null,
            "visibility": null,
            "width": null
          }
        },
        "6d5a2573775646468133454bde82fd5d": {
          "model_module": "@jupyter-widgets/controls",
          "model_module_version": "1.5.0",
          "model_name": "HTMLModel",
          "state": {
            "_dom_classes": [],
            "_model_module": "@jupyter-widgets/controls",
            "_model_module_version": "1.5.0",
            "_model_name": "HTMLModel",
            "_view_count": null,
            "_view_module": "@jupyter-widgets/controls",
            "_view_module_version": "1.5.0",
            "_view_name": "HTMLView",
            "description": "",
            "description_tooltip": null,
            "layout": "IPY_MODEL_3cf4b7d5440f44fabe12da9442bd3420",
            "placeholder": "​",
            "style": "IPY_MODEL_f5db97daa8754e5e91c7088d23039c82",
            "value": "Epoch 1/3:   2%"
          }
        },
        "7a7c65ff89b94ebfa997ecf6decc7d93": {
          "model_module": "@jupyter-widgets/base",
          "model_module_version": "1.2.0",
          "model_name": "LayoutModel",
          "state": {
            "_model_module": "@jupyter-widgets/base",
            "_model_module_version": "1.2.0",
            "_model_name": "LayoutModel",
            "_view_count": null,
            "_view_module": "@jupyter-widgets/base",
            "_view_module_version": "1.2.0",
            "_view_name": "LayoutView",
            "align_content": null,
            "align_items": null,
            "align_self": null,
            "border": null,
            "bottom": null,
            "display": null,
            "flex": null,
            "flex_flow": null,
            "grid_area": null,
            "grid_auto_columns": null,
            "grid_auto_flow": null,
            "grid_auto_rows": null,
            "grid_column": null,
            "grid_gap": null,
            "grid_row": null,
            "grid_template_areas": null,
            "grid_template_columns": null,
            "grid_template_rows": null,
            "height": null,
            "justify_content": null,
            "justify_items": null,
            "left": null,
            "margin": null,
            "max_height": null,
            "max_width": null,
            "min_height": null,
            "min_width": null,
            "object_fit": null,
            "object_position": null,
            "order": null,
            "overflow": null,
            "overflow_x": null,
            "overflow_y": null,
            "padding": null,
            "right": null,
            "top": null,
            "visibility": null,
            "width": null
          }
        },
        "8742bd3b66034a39aadb68a9da3a73bc": {
          "model_module": "@jupyter-widgets/controls",
          "model_module_version": "1.5.0",
          "model_name": "HTMLModel",
          "state": {
            "_dom_classes": [],
            "_model_module": "@jupyter-widgets/controls",
            "_model_module_version": "1.5.0",
            "_model_name": "HTMLModel",
            "_view_count": null,
            "_view_module": "@jupyter-widgets/controls",
            "_view_module_version": "1.5.0",
            "_view_name": "HTMLView",
            "description": "",
            "description_tooltip": null,
            "layout": "IPY_MODEL_3176ea56e8b8470b822c139ed68ba51c",
            "placeholder": "​",
            "style": "IPY_MODEL_8b207bf84cf74d34b4a27dfb61ca376c",
            "value": " 7/401 [03:08&lt;2:20:19, 21.37s/batch, loss=3.61]"
          }
        },
        "876c37982d044cfd87ad1749cb00c91b": {
          "model_module": "@jupyter-widgets/controls",
          "model_module_version": "1.5.0",
          "model_name": "FloatProgressModel",
          "state": {
            "_dom_classes": [],
            "_model_module": "@jupyter-widgets/controls",
            "_model_module_version": "1.5.0",
            "_model_name": "FloatProgressModel",
            "_view_count": null,
            "_view_module": "@jupyter-widgets/controls",
            "_view_module_version": "1.5.0",
            "_view_name": "ProgressView",
            "bar_style": "success",
            "description": "",
            "description_tooltip": null,
            "layout": "IPY_MODEL_1c4465889f63432197a18a7f169c3cc1",
            "max": 466062,
            "min": 0,
            "orientation": "horizontal",
            "style": "IPY_MODEL_1d193e0c965f45779f5e80d9a4f286b0",
            "value": 466062
          }
        },
        "8b207bf84cf74d34b4a27dfb61ca376c": {
          "model_module": "@jupyter-widgets/controls",
          "model_module_version": "1.5.0",
          "model_name": "DescriptionStyleModel",
          "state": {
            "_model_module": "@jupyter-widgets/controls",
            "_model_module_version": "1.5.0",
            "_model_name": "DescriptionStyleModel",
            "_view_count": null,
            "_view_module": "@jupyter-widgets/base",
            "_view_module_version": "1.2.0",
            "_view_name": "StyleView",
            "description_width": ""
          }
        },
        "8cae7b9edb4741dcb67c70582bf274d1": {
          "model_module": "@jupyter-widgets/controls",
          "model_module_version": "1.5.0",
          "model_name": "ProgressStyleModel",
          "state": {
            "_model_module": "@jupyter-widgets/controls",
            "_model_module_version": "1.5.0",
            "_model_name": "ProgressStyleModel",
            "_view_count": null,
            "_view_module": "@jupyter-widgets/base",
            "_view_module_version": "1.2.0",
            "_view_name": "StyleView",
            "bar_color": null,
            "description_width": ""
          }
        },
        "8f7efcba9bd643cb8cf5fc1f517e2628": {
          "model_module": "@jupyter-widgets/controls",
          "model_module_version": "1.5.0",
          "model_name": "HBoxModel",
          "state": {
            "_dom_classes": [],
            "_model_module": "@jupyter-widgets/controls",
            "_model_module_version": "1.5.0",
            "_model_name": "HBoxModel",
            "_view_count": null,
            "_view_module": "@jupyter-widgets/controls",
            "_view_module_version": "1.5.0",
            "_view_name": "HBoxView",
            "box_style": "",
            "children": [
              "IPY_MODEL_4fd4d6452c974fda84ec9a70b019f068",
              "IPY_MODEL_44f367947eb843c3904a817912fcbdb7",
              "IPY_MODEL_25440473e90a46308ec1f23154a5f5bd"
            ],
            "layout": "IPY_MODEL_b83f9f41c7384040b6ad30c598832948"
          }
        },
        "9743909275514ce1a69e3f2b91fc00eb": {
          "model_module": "@jupyter-widgets/controls",
          "model_module_version": "1.5.0",
          "model_name": "HBoxModel",
          "state": {
            "_dom_classes": [],
            "_model_module": "@jupyter-widgets/controls",
            "_model_module_version": "1.5.0",
            "_model_name": "HBoxModel",
            "_view_count": null,
            "_view_module": "@jupyter-widgets/controls",
            "_view_module_version": "1.5.0",
            "_view_name": "HBoxView",
            "box_style": "",
            "children": [
              "IPY_MODEL_d30eec8ab1794e88a8fbe8874374afad",
              "IPY_MODEL_1153d8b13e86484f8cb9084d1ac883e3",
              "IPY_MODEL_aa318bc513734360a563f738f2db55a6"
            ],
            "layout": "IPY_MODEL_7a7c65ff89b94ebfa997ecf6decc7d93"
          }
        },
        "9aab102b535744e196a73021935fb1d8": {
          "model_module": "@jupyter-widgets/controls",
          "model_module_version": "1.5.0",
          "model_name": "DescriptionStyleModel",
          "state": {
            "_model_module": "@jupyter-widgets/controls",
            "_model_module_version": "1.5.0",
            "_model_name": "DescriptionStyleModel",
            "_view_count": null,
            "_view_module": "@jupyter-widgets/base",
            "_view_module_version": "1.2.0",
            "_view_name": "StyleView",
            "description_width": ""
          }
        },
        "a91cb22b79fa4eb7ba2b4a3cc63eda73": {
          "model_module": "@jupyter-widgets/base",
          "model_module_version": "1.2.0",
          "model_name": "LayoutModel",
          "state": {
            "_model_module": "@jupyter-widgets/base",
            "_model_module_version": "1.2.0",
            "_model_name": "LayoutModel",
            "_view_count": null,
            "_view_module": "@jupyter-widgets/base",
            "_view_module_version": "1.2.0",
            "_view_name": "LayoutView",
            "align_content": null,
            "align_items": null,
            "align_self": null,
            "border": null,
            "bottom": null,
            "display": null,
            "flex": null,
            "flex_flow": null,
            "grid_area": null,
            "grid_auto_columns": null,
            "grid_auto_flow": null,
            "grid_auto_rows": null,
            "grid_column": null,
            "grid_gap": null,
            "grid_row": null,
            "grid_template_areas": null,
            "grid_template_columns": null,
            "grid_template_rows": null,
            "height": null,
            "justify_content": null,
            "justify_items": null,
            "left": null,
            "margin": null,
            "max_height": null,
            "max_width": null,
            "min_height": null,
            "min_width": null,
            "object_fit": null,
            "object_position": null,
            "order": null,
            "overflow": null,
            "overflow_x": null,
            "overflow_y": null,
            "padding": null,
            "right": null,
            "top": null,
            "visibility": null,
            "width": null
          }
        },
        "aa318bc513734360a563f738f2db55a6": {
          "model_module": "@jupyter-widgets/controls",
          "model_module_version": "1.5.0",
          "model_name": "HTMLModel",
          "state": {
            "_dom_classes": [],
            "_model_module": "@jupyter-widgets/controls",
            "_model_module_version": "1.5.0",
            "_model_name": "HTMLModel",
            "_view_count": null,
            "_view_module": "@jupyter-widgets/controls",
            "_view_module_version": "1.5.0",
            "_view_name": "HTMLView",
            "description": "",
            "description_tooltip": null,
            "layout": "IPY_MODEL_42c7da156d984f178d1615c812ae0e12",
            "placeholder": "​",
            "style": "IPY_MODEL_d6293e1ffac64d14b2dccf1cea4f6377",
            "value": " 48.0/48.0 [00:00&lt;00:00, 927B/s]"
          }
        },
        "aefdec99864046c5a1551d1fd36b76ce": {
          "model_module": "@jupyter-widgets/controls",
          "model_module_version": "1.5.0",
          "model_name": "HTMLModel",
          "state": {
            "_dom_classes": [],
            "_model_module": "@jupyter-widgets/controls",
            "_model_module_version": "1.5.0",
            "_model_name": "HTMLModel",
            "_view_count": null,
            "_view_module": "@jupyter-widgets/controls",
            "_view_module_version": "1.5.0",
            "_view_name": "HTMLView",
            "description": "",
            "description_tooltip": null,
            "layout": "IPY_MODEL_57c97c694bf74dc28d87f95e5865b9e0",
            "placeholder": "​",
            "style": "IPY_MODEL_42e728b9e00d4213b615bf50208f6964",
            "value": "tokenizer.json: 100%"
          }
        },
        "af1cecbcdb9041d29ad0d736ba18d785": {
          "model_module": "@jupyter-widgets/controls",
          "model_module_version": "1.5.0",
          "model_name": "DescriptionStyleModel",
          "state": {
            "_model_module": "@jupyter-widgets/controls",
            "_model_module_version": "1.5.0",
            "_model_name": "DescriptionStyleModel",
            "_view_count": null,
            "_view_module": "@jupyter-widgets/base",
            "_view_module_version": "1.2.0",
            "_view_name": "StyleView",
            "description_width": ""
          }
        },
        "b230505992e0491188eeb01254a72d21": {
          "model_module": "@jupyter-widgets/controls",
          "model_module_version": "1.5.0",
          "model_name": "HTMLModel",
          "state": {
            "_dom_classes": [],
            "_model_module": "@jupyter-widgets/controls",
            "_model_module_version": "1.5.0",
            "_model_name": "HTMLModel",
            "_view_count": null,
            "_view_module": "@jupyter-widgets/controls",
            "_view_module_version": "1.5.0",
            "_view_name": "HTMLView",
            "description": "",
            "description_tooltip": null,
            "layout": "IPY_MODEL_fe44bcc1e3074f3f9bd758ef027c3a5f",
            "placeholder": "​",
            "style": "IPY_MODEL_cb4bd635936c4a5a94a96c62f57fef88",
            "value": "model.safetensors: 100%"
          }
        },
        "b53799b08877409c9465fd865efc290a": {
          "model_module": "@jupyter-widgets/controls",
          "model_module_version": "1.5.0",
          "model_name": "DescriptionStyleModel",
          "state": {
            "_model_module": "@jupyter-widgets/controls",
            "_model_module_version": "1.5.0",
            "_model_name": "DescriptionStyleModel",
            "_view_count": null,
            "_view_module": "@jupyter-widgets/base",
            "_view_module_version": "1.2.0",
            "_view_name": "StyleView",
            "description_width": ""
          }
        },
        "b7b8765ba1cf442e928538c7a6a219bc": {
          "model_module": "@jupyter-widgets/controls",
          "model_module_version": "1.5.0",
          "model_name": "HBoxModel",
          "state": {
            "_dom_classes": [],
            "_model_module": "@jupyter-widgets/controls",
            "_model_module_version": "1.5.0",
            "_model_name": "HBoxModel",
            "_view_count": null,
            "_view_module": "@jupyter-widgets/controls",
            "_view_module_version": "1.5.0",
            "_view_name": "HBoxView",
            "box_style": "",
            "children": [
              "IPY_MODEL_6d5a2573775646468133454bde82fd5d",
              "IPY_MODEL_2c15fa5ddaf64540b5ed7822ebffbad7",
              "IPY_MODEL_8742bd3b66034a39aadb68a9da3a73bc"
            ],
            "layout": "IPY_MODEL_3880284b92954e06ae6fcdb1646ec1dc"
          }
        },
        "b83f9f41c7384040b6ad30c598832948": {
          "model_module": "@jupyter-widgets/base",
          "model_module_version": "1.2.0",
          "model_name": "LayoutModel",
          "state": {
            "_model_module": "@jupyter-widgets/base",
            "_model_module_version": "1.2.0",
            "_model_name": "LayoutModel",
            "_view_count": null,
            "_view_module": "@jupyter-widgets/base",
            "_view_module_version": "1.2.0",
            "_view_name": "LayoutView",
            "align_content": null,
            "align_items": null,
            "align_self": null,
            "border": null,
            "bottom": null,
            "display": null,
            "flex": null,
            "flex_flow": null,
            "grid_area": null,
            "grid_auto_columns": null,
            "grid_auto_flow": null,
            "grid_auto_rows": null,
            "grid_column": null,
            "grid_gap": null,
            "grid_row": null,
            "grid_template_areas": null,
            "grid_template_columns": null,
            "grid_template_rows": null,
            "height": null,
            "justify_content": null,
            "justify_items": null,
            "left": null,
            "margin": null,
            "max_height": null,
            "max_width": null,
            "min_height": null,
            "min_width": null,
            "object_fit": null,
            "object_position": null,
            "order": null,
            "overflow": null,
            "overflow_x": null,
            "overflow_y": null,
            "padding": null,
            "right": null,
            "top": null,
            "visibility": null,
            "width": null
          }
        },
        "b934c947fa4c4e78b8028b4550c2e300": {
          "model_module": "@jupyter-widgets/base",
          "model_module_version": "1.2.0",
          "model_name": "LayoutModel",
          "state": {
            "_model_module": "@jupyter-widgets/base",
            "_model_module_version": "1.2.0",
            "_model_name": "LayoutModel",
            "_view_count": null,
            "_view_module": "@jupyter-widgets/base",
            "_view_module_version": "1.2.0",
            "_view_name": "LayoutView",
            "align_content": null,
            "align_items": null,
            "align_self": null,
            "border": null,
            "bottom": null,
            "display": null,
            "flex": null,
            "flex_flow": null,
            "grid_area": null,
            "grid_auto_columns": null,
            "grid_auto_flow": null,
            "grid_auto_rows": null,
            "grid_column": null,
            "grid_gap": null,
            "grid_row": null,
            "grid_template_areas": null,
            "grid_template_columns": null,
            "grid_template_rows": null,
            "height": null,
            "justify_content": null,
            "justify_items": null,
            "left": null,
            "margin": null,
            "max_height": null,
            "max_width": null,
            "min_height": null,
            "min_width": null,
            "object_fit": null,
            "object_position": null,
            "order": null,
            "overflow": null,
            "overflow_x": null,
            "overflow_y": null,
            "padding": null,
            "right": null,
            "top": null,
            "visibility": null,
            "width": null
          }
        },
        "c356a749a47c431aa9067bc52187e9eb": {
          "model_module": "@jupyter-widgets/controls",
          "model_module_version": "1.5.0",
          "model_name": "HTMLModel",
          "state": {
            "_dom_classes": [],
            "_model_module": "@jupyter-widgets/controls",
            "_model_module_version": "1.5.0",
            "_model_name": "HTMLModel",
            "_view_count": null,
            "_view_module": "@jupyter-widgets/controls",
            "_view_module_version": "1.5.0",
            "_view_name": "HTMLView",
            "description": "",
            "description_tooltip": null,
            "layout": "IPY_MODEL_d9a672e9528b4fdd8126faa4dcebd93d",
            "placeholder": "​",
            "style": "IPY_MODEL_c5ae508675c74ba58d57f2985b435c00",
            "value": " 440M/440M [00:03&lt;00:00, 158MB/s]"
          }
        },
        "c5ae508675c74ba58d57f2985b435c00": {
          "model_module": "@jupyter-widgets/controls",
          "model_module_version": "1.5.0",
          "model_name": "DescriptionStyleModel",
          "state": {
            "_model_module": "@jupyter-widgets/controls",
            "_model_module_version": "1.5.0",
            "_model_name": "DescriptionStyleModel",
            "_view_count": null,
            "_view_module": "@jupyter-widgets/base",
            "_view_module_version": "1.2.0",
            "_view_name": "StyleView",
            "description_width": ""
          }
        },
        "cb4bd635936c4a5a94a96c62f57fef88": {
          "model_module": "@jupyter-widgets/controls",
          "model_module_version": "1.5.0",
          "model_name": "DescriptionStyleModel",
          "state": {
            "_model_module": "@jupyter-widgets/controls",
            "_model_module_version": "1.5.0",
            "_model_name": "DescriptionStyleModel",
            "_view_count": null,
            "_view_module": "@jupyter-widgets/base",
            "_view_module_version": "1.2.0",
            "_view_name": "StyleView",
            "description_width": ""
          }
        },
        "d000578be077477390ce3061be0033fc": {
          "model_module": "@jupyter-widgets/controls",
          "model_module_version": "1.5.0",
          "model_name": "HTMLModel",
          "state": {
            "_dom_classes": [],
            "_model_module": "@jupyter-widgets/controls",
            "_model_module_version": "1.5.0",
            "_model_name": "HTMLModel",
            "_view_count": null,
            "_view_module": "@jupyter-widgets/controls",
            "_view_module_version": "1.5.0",
            "_view_name": "HTMLView",
            "description": "",
            "description_tooltip": null,
            "layout": "IPY_MODEL_3dede42e16194126a9d88d858c91177e",
            "placeholder": "​",
            "style": "IPY_MODEL_b53799b08877409c9465fd865efc290a",
            "value": " 466k/466k [00:00&lt;00:00, 9.19MB/s]"
          }
        },
        "d26518ca689443c2b6045fb5261c7318": {
          "model_module": "@jupyter-widgets/base",
          "model_module_version": "1.2.0",
          "model_name": "LayoutModel",
          "state": {
            "_model_module": "@jupyter-widgets/base",
            "_model_module_version": "1.2.0",
            "_model_name": "LayoutModel",
            "_view_count": null,
            "_view_module": "@jupyter-widgets/base",
            "_view_module_version": "1.2.0",
            "_view_name": "LayoutView",
            "align_content": null,
            "align_items": null,
            "align_self": null,
            "border": null,
            "bottom": null,
            "display": null,
            "flex": null,
            "flex_flow": null,
            "grid_area": null,
            "grid_auto_columns": null,
            "grid_auto_flow": null,
            "grid_auto_rows": null,
            "grid_column": null,
            "grid_gap": null,
            "grid_row": null,
            "grid_template_areas": null,
            "grid_template_columns": null,
            "grid_template_rows": null,
            "height": null,
            "justify_content": null,
            "justify_items": null,
            "left": null,
            "margin": null,
            "max_height": null,
            "max_width": null,
            "min_height": null,
            "min_width": null,
            "object_fit": null,
            "object_position": null,
            "order": null,
            "overflow": null,
            "overflow_x": null,
            "overflow_y": null,
            "padding": null,
            "right": null,
            "top": null,
            "visibility": null,
            "width": null
          }
        },
        "d30eec8ab1794e88a8fbe8874374afad": {
          "model_module": "@jupyter-widgets/controls",
          "model_module_version": "1.5.0",
          "model_name": "HTMLModel",
          "state": {
            "_dom_classes": [],
            "_model_module": "@jupyter-widgets/controls",
            "_model_module_version": "1.5.0",
            "_model_name": "HTMLModel",
            "_view_count": null,
            "_view_module": "@jupyter-widgets/controls",
            "_view_module_version": "1.5.0",
            "_view_name": "HTMLView",
            "description": "",
            "description_tooltip": null,
            "layout": "IPY_MODEL_d26518ca689443c2b6045fb5261c7318",
            "placeholder": "​",
            "style": "IPY_MODEL_f6159f9348d547fe91d3e0b10e52eb90",
            "value": "tokenizer_config.json: 100%"
          }
        },
        "d6293e1ffac64d14b2dccf1cea4f6377": {
          "model_module": "@jupyter-widgets/controls",
          "model_module_version": "1.5.0",
          "model_name": "DescriptionStyleModel",
          "state": {
            "_model_module": "@jupyter-widgets/controls",
            "_model_module_version": "1.5.0",
            "_model_name": "DescriptionStyleModel",
            "_view_count": null,
            "_view_module": "@jupyter-widgets/base",
            "_view_module_version": "1.2.0",
            "_view_name": "StyleView",
            "description_width": ""
          }
        },
        "d9a672e9528b4fdd8126faa4dcebd93d": {
          "model_module": "@jupyter-widgets/base",
          "model_module_version": "1.2.0",
          "model_name": "LayoutModel",
          "state": {
            "_model_module": "@jupyter-widgets/base",
            "_model_module_version": "1.2.0",
            "_model_name": "LayoutModel",
            "_view_count": null,
            "_view_module": "@jupyter-widgets/base",
            "_view_module_version": "1.2.0",
            "_view_name": "LayoutView",
            "align_content": null,
            "align_items": null,
            "align_self": null,
            "border": null,
            "bottom": null,
            "display": null,
            "flex": null,
            "flex_flow": null,
            "grid_area": null,
            "grid_auto_columns": null,
            "grid_auto_flow": null,
            "grid_auto_rows": null,
            "grid_column": null,
            "grid_gap": null,
            "grid_row": null,
            "grid_template_areas": null,
            "grid_template_columns": null,
            "grid_template_rows": null,
            "height": null,
            "justify_content": null,
            "justify_items": null,
            "left": null,
            "margin": null,
            "max_height": null,
            "max_width": null,
            "min_height": null,
            "min_width": null,
            "object_fit": null,
            "object_position": null,
            "order": null,
            "overflow": null,
            "overflow_x": null,
            "overflow_y": null,
            "padding": null,
            "right": null,
            "top": null,
            "visibility": null,
            "width": null
          }
        },
        "db8e4289dd4b4af39e365eeee14817ff": {
          "model_module": "@jupyter-widgets/base",
          "model_module_version": "1.2.0",
          "model_name": "LayoutModel",
          "state": {
            "_model_module": "@jupyter-widgets/base",
            "_model_module_version": "1.2.0",
            "_model_name": "LayoutModel",
            "_view_count": null,
            "_view_module": "@jupyter-widgets/base",
            "_view_module_version": "1.2.0",
            "_view_name": "LayoutView",
            "align_content": null,
            "align_items": null,
            "align_self": null,
            "border": null,
            "bottom": null,
            "display": null,
            "flex": null,
            "flex_flow": null,
            "grid_area": null,
            "grid_auto_columns": null,
            "grid_auto_flow": null,
            "grid_auto_rows": null,
            "grid_column": null,
            "grid_gap": null,
            "grid_row": null,
            "grid_template_areas": null,
            "grid_template_columns": null,
            "grid_template_rows": null,
            "height": null,
            "justify_content": null,
            "justify_items": null,
            "left": null,
            "margin": null,
            "max_height": null,
            "max_width": null,
            "min_height": null,
            "min_width": null,
            "object_fit": null,
            "object_position": null,
            "order": null,
            "overflow": null,
            "overflow_x": null,
            "overflow_y": null,
            "padding": null,
            "right": null,
            "top": null,
            "visibility": null,
            "width": null
          }
        },
        "e165769df4134e22acb462bdb7ecea2d": {
          "model_module": "@jupyter-widgets/controls",
          "model_module_version": "1.5.0",
          "model_name": "FloatProgressModel",
          "state": {
            "_dom_classes": [],
            "_model_module": "@jupyter-widgets/controls",
            "_model_module_version": "1.5.0",
            "_model_name": "FloatProgressModel",
            "_view_count": null,
            "_view_module": "@jupyter-widgets/controls",
            "_view_module_version": "1.5.0",
            "_view_name": "ProgressView",
            "bar_style": "success",
            "description": "",
            "description_tooltip": null,
            "layout": "IPY_MODEL_f91342d17ec6457a8d48ee539a1e285d",
            "max": 231508,
            "min": 0,
            "orientation": "horizontal",
            "style": "IPY_MODEL_e7ffedab162f40c5810b9c404ec75621",
            "value": 231508
          }
        },
        "e175cb254fc140a1b66e3adea1dffee0": {
          "model_module": "@jupyter-widgets/controls",
          "model_module_version": "1.5.0",
          "model_name": "HBoxModel",
          "state": {
            "_dom_classes": [],
            "_model_module": "@jupyter-widgets/controls",
            "_model_module_version": "1.5.0",
            "_model_name": "HBoxModel",
            "_view_count": null,
            "_view_module": "@jupyter-widgets/controls",
            "_view_module_version": "1.5.0",
            "_view_name": "HBoxView",
            "box_style": "",
            "children": [
              "IPY_MODEL_ebeeb16dfb1f461fbccb392d4aa3898e",
              "IPY_MODEL_e165769df4134e22acb462bdb7ecea2d",
              "IPY_MODEL_1b8d8d3a243f45a8b9d4a35a206a89b8"
            ],
            "layout": "IPY_MODEL_fd771423b3cc4ba69dfeda4f6fa5bb39"
          }
        },
        "e7ffedab162f40c5810b9c404ec75621": {
          "model_module": "@jupyter-widgets/controls",
          "model_module_version": "1.5.0",
          "model_name": "ProgressStyleModel",
          "state": {
            "_model_module": "@jupyter-widgets/controls",
            "_model_module_version": "1.5.0",
            "_model_name": "ProgressStyleModel",
            "_view_count": null,
            "_view_module": "@jupyter-widgets/base",
            "_view_module_version": "1.2.0",
            "_view_name": "StyleView",
            "bar_color": null,
            "description_width": ""
          }
        },
        "ebeeb16dfb1f461fbccb392d4aa3898e": {
          "model_module": "@jupyter-widgets/controls",
          "model_module_version": "1.5.0",
          "model_name": "HTMLModel",
          "state": {
            "_dom_classes": [],
            "_model_module": "@jupyter-widgets/controls",
            "_model_module_version": "1.5.0",
            "_model_name": "HTMLModel",
            "_view_count": null,
            "_view_module": "@jupyter-widgets/controls",
            "_view_module_version": "1.5.0",
            "_view_name": "HTMLView",
            "description": "",
            "description_tooltip": null,
            "layout": "IPY_MODEL_2fd20ea39c5740468a4613bad9a22301",
            "placeholder": "​",
            "style": "IPY_MODEL_1baa5b1c068e43018f7e76fa46e0fe55",
            "value": "vocab.txt: 100%"
          }
        },
        "f5db97daa8754e5e91c7088d23039c82": {
          "model_module": "@jupyter-widgets/controls",
          "model_module_version": "1.5.0",
          "model_name": "DescriptionStyleModel",
          "state": {
            "_model_module": "@jupyter-widgets/controls",
            "_model_module_version": "1.5.0",
            "_model_name": "DescriptionStyleModel",
            "_view_count": null,
            "_view_module": "@jupyter-widgets/base",
            "_view_module_version": "1.2.0",
            "_view_name": "StyleView",
            "description_width": ""
          }
        },
        "f6159f9348d547fe91d3e0b10e52eb90": {
          "model_module": "@jupyter-widgets/controls",
          "model_module_version": "1.5.0",
          "model_name": "DescriptionStyleModel",
          "state": {
            "_model_module": "@jupyter-widgets/controls",
            "_model_module_version": "1.5.0",
            "_model_name": "DescriptionStyleModel",
            "_view_count": null,
            "_view_module": "@jupyter-widgets/base",
            "_view_module_version": "1.2.0",
            "_view_name": "StyleView",
            "description_width": ""
          }
        },
        "f81ec8eb4aef4f3a9dad298aefee5aa9": {
          "model_module": "@jupyter-widgets/controls",
          "model_module_version": "1.5.0",
          "model_name": "HBoxModel",
          "state": {
            "_dom_classes": [],
            "_model_module": "@jupyter-widgets/controls",
            "_model_module_version": "1.5.0",
            "_model_name": "HBoxModel",
            "_view_count": null,
            "_view_module": "@jupyter-widgets/controls",
            "_view_module_version": "1.5.0",
            "_view_name": "HBoxView",
            "box_style": "",
            "children": [
              "IPY_MODEL_b230505992e0491188eeb01254a72d21",
              "IPY_MODEL_1063eb822ba149aaa4b0c71e84e8da35",
              "IPY_MODEL_c356a749a47c431aa9067bc52187e9eb"
            ],
            "layout": "IPY_MODEL_50d3bf9533d64ef9a9ef0845d2ec4307"
          }
        },
        "f91342d17ec6457a8d48ee539a1e285d": {
          "model_module": "@jupyter-widgets/base",
          "model_module_version": "1.2.0",
          "model_name": "LayoutModel",
          "state": {
            "_model_module": "@jupyter-widgets/base",
            "_model_module_version": "1.2.0",
            "_model_name": "LayoutModel",
            "_view_count": null,
            "_view_module": "@jupyter-widgets/base",
            "_view_module_version": "1.2.0",
            "_view_name": "LayoutView",
            "align_content": null,
            "align_items": null,
            "align_self": null,
            "border": null,
            "bottom": null,
            "display": null,
            "flex": null,
            "flex_flow": null,
            "grid_area": null,
            "grid_auto_columns": null,
            "grid_auto_flow": null,
            "grid_auto_rows": null,
            "grid_column": null,
            "grid_gap": null,
            "grid_row": null,
            "grid_template_areas": null,
            "grid_template_columns": null,
            "grid_template_rows": null,
            "height": null,
            "justify_content": null,
            "justify_items": null,
            "left": null,
            "margin": null,
            "max_height": null,
            "max_width": null,
            "min_height": null,
            "min_width": null,
            "object_fit": null,
            "object_position": null,
            "order": null,
            "overflow": null,
            "overflow_x": null,
            "overflow_y": null,
            "padding": null,
            "right": null,
            "top": null,
            "visibility": null,
            "width": null
          }
        },
        "fd771423b3cc4ba69dfeda4f6fa5bb39": {
          "model_module": "@jupyter-widgets/base",
          "model_module_version": "1.2.0",
          "model_name": "LayoutModel",
          "state": {
            "_model_module": "@jupyter-widgets/base",
            "_model_module_version": "1.2.0",
            "_model_name": "LayoutModel",
            "_view_count": null,
            "_view_module": "@jupyter-widgets/base",
            "_view_module_version": "1.2.0",
            "_view_name": "LayoutView",
            "align_content": null,
            "align_items": null,
            "align_self": null,
            "border": null,
            "bottom": null,
            "display": null,
            "flex": null,
            "flex_flow": null,
            "grid_area": null,
            "grid_auto_columns": null,
            "grid_auto_flow": null,
            "grid_auto_rows": null,
            "grid_column": null,
            "grid_gap": null,
            "grid_row": null,
            "grid_template_areas": null,
            "grid_template_columns": null,
            "grid_template_rows": null,
            "height": null,
            "justify_content": null,
            "justify_items": null,
            "left": null,
            "margin": null,
            "max_height": null,
            "max_width": null,
            "min_height": null,
            "min_width": null,
            "object_fit": null,
            "object_position": null,
            "order": null,
            "overflow": null,
            "overflow_x": null,
            "overflow_y": null,
            "padding": null,
            "right": null,
            "top": null,
            "visibility": null,
            "width": null
          }
        },
        "fe44bcc1e3074f3f9bd758ef027c3a5f": {
          "model_module": "@jupyter-widgets/base",
          "model_module_version": "1.2.0",
          "model_name": "LayoutModel",
          "state": {
            "_model_module": "@jupyter-widgets/base",
            "_model_module_version": "1.2.0",
            "_model_name": "LayoutModel",
            "_view_count": null,
            "_view_module": "@jupyter-widgets/base",
            "_view_module_version": "1.2.0",
            "_view_name": "LayoutView",
            "align_content": null,
            "align_items": null,
            "align_self": null,
            "border": null,
            "bottom": null,
            "display": null,
            "flex": null,
            "flex_flow": null,
            "grid_area": null,
            "grid_auto_columns": null,
            "grid_auto_flow": null,
            "grid_auto_rows": null,
            "grid_column": null,
            "grid_gap": null,
            "grid_row": null,
            "grid_template_areas": null,
            "grid_template_columns": null,
            "grid_template_rows": null,
            "height": null,
            "justify_content": null,
            "justify_items": null,
            "left": null,
            "margin": null,
            "max_height": null,
            "max_width": null,
            "min_height": null,
            "min_width": null,
            "object_fit": null,
            "object_position": null,
            "order": null,
            "overflow": null,
            "overflow_x": null,
            "overflow_y": null,
            "padding": null,
            "right": null,
            "top": null,
            "visibility": null,
            "width": null
          }
        }
      }
    }
  },
  "nbformat": 4,
  "nbformat_minor": 0
}
